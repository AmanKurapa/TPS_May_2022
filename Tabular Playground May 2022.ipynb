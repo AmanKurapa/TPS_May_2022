{
 "cells": [
  {
   "cell_type": "code",
   "execution_count": 1,
   "id": "346e2a90",
   "metadata": {
    "ExecuteTime": {
     "end_time": "2022-08-07T19:46:12.144848Z",
     "start_time": "2022-08-07T19:46:10.407065Z"
    }
   },
   "outputs": [
    {
     "data": {
      "text/html": [
       "<style>.container { width:90% !important; }</style>"
      ],
      "text/plain": [
       "<IPython.core.display.HTML object>"
      ]
     },
     "metadata": {},
     "output_type": "display_data"
    }
   ],
   "source": [
    "#Libraries\n",
    "import time\n",
    "import random\n",
    "from tqdm import tqdm\n",
    "import pandas as pd\n",
    "import numpy as np\n",
    "import matplotlib.pyplot as plt\n",
    "import seaborn as sns\n",
    "import optuna\n",
    "import eli5\n",
    "from sklearn.preprocessing import OrdinalEncoder\n",
    "from sklearn.model_selection import train_test_split, GridSearchCV, KFold, cross_val_score \n",
    "from sklearn.linear_model import LogisticRegression \n",
    "from sklearn.tree import DecisionTreeClassifier\n",
    "from sklearn.ensemble import RandomForestClassifier\n",
    "from sklearn.ensemble import GradientBoostingClassifier \n",
    "from sklearn.neighbors import KNeighborsClassifier \n",
    "from xgboost import XGBClassifier\n",
    "from sklearn.svm import SVC\n",
    "from lightgbm import LGBMClassifier, plot_importance\n",
    "from sklearn.metrics import classification_report, confusion_matrix, plot_confusion_matrix, plot_roc_curve, plot_precision_recall_curve #import metrics score to validate algorithm\n",
    "from sklearn.preprocessing import MinMaxScaler\n",
    "\n",
    "pd.set_option('display.max_rows', 500)\n",
    "pd.set_option('display.max_columns', 500)\n",
    "pd.set_option('display.width', 1000)\n",
    "from IPython.display import display, HTML\n",
    "display(HTML(\"<style>.container { width:90% !important; }</style>\"))"
   ]
  },
  {
   "cell_type": "code",
   "execution_count": 2,
   "id": "516ddb9c",
   "metadata": {
    "ExecuteTime": {
     "end_time": "2022-08-07T19:46:17.451057Z",
     "start_time": "2022-08-07T19:46:12.781660Z"
    },
    "partialCollapse": true
   },
   "outputs": [],
   "source": [
    "# Reading files\n",
    "train_path = r'./Dataset/train.csv'\n",
    "test_path = r'./Dataset/test.csv'\n",
    "\n",
    "train_df = pd.read_csv(train_path, index_col = \"id\")\n",
    "test_df = pd.read_csv(test_path, index_col = \"id\")"
   ]
  },
  {
   "cell_type": "code",
   "execution_count": 3,
   "id": "24fd5edd",
   "metadata": {
    "ExecuteTime": {
     "end_time": "2022-08-07T19:46:21.038462Z",
     "start_time": "2022-08-07T19:46:21.013092Z"
    }
   },
   "outputs": [
    {
     "data": {
      "text/html": [
       "<div>\n",
       "<style scoped>\n",
       "    .dataframe tbody tr th:only-of-type {\n",
       "        vertical-align: middle;\n",
       "    }\n",
       "\n",
       "    .dataframe tbody tr th {\n",
       "        vertical-align: top;\n",
       "    }\n",
       "\n",
       "    .dataframe thead th {\n",
       "        text-align: right;\n",
       "    }\n",
       "</style>\n",
       "<table border=\"1\" class=\"dataframe\">\n",
       "  <thead>\n",
       "    <tr style=\"text-align: right;\">\n",
       "      <th></th>\n",
       "      <th>f_00</th>\n",
       "      <th>f_01</th>\n",
       "      <th>f_02</th>\n",
       "      <th>f_03</th>\n",
       "      <th>f_04</th>\n",
       "      <th>f_05</th>\n",
       "      <th>f_06</th>\n",
       "      <th>f_07</th>\n",
       "      <th>f_08</th>\n",
       "      <th>f_09</th>\n",
       "      <th>f_10</th>\n",
       "      <th>f_11</th>\n",
       "      <th>f_12</th>\n",
       "      <th>f_13</th>\n",
       "      <th>f_14</th>\n",
       "      <th>f_15</th>\n",
       "      <th>f_16</th>\n",
       "      <th>f_17</th>\n",
       "      <th>f_18</th>\n",
       "      <th>f_19</th>\n",
       "      <th>f_20</th>\n",
       "      <th>f_21</th>\n",
       "      <th>f_22</th>\n",
       "      <th>f_23</th>\n",
       "      <th>f_24</th>\n",
       "      <th>f_25</th>\n",
       "      <th>f_26</th>\n",
       "      <th>f_27</th>\n",
       "      <th>f_28</th>\n",
       "      <th>f_29</th>\n",
       "      <th>f_30</th>\n",
       "      <th>target</th>\n",
       "    </tr>\n",
       "    <tr>\n",
       "      <th>id</th>\n",
       "      <th></th>\n",
       "      <th></th>\n",
       "      <th></th>\n",
       "      <th></th>\n",
       "      <th></th>\n",
       "      <th></th>\n",
       "      <th></th>\n",
       "      <th></th>\n",
       "      <th></th>\n",
       "      <th></th>\n",
       "      <th></th>\n",
       "      <th></th>\n",
       "      <th></th>\n",
       "      <th></th>\n",
       "      <th></th>\n",
       "      <th></th>\n",
       "      <th></th>\n",
       "      <th></th>\n",
       "      <th></th>\n",
       "      <th></th>\n",
       "      <th></th>\n",
       "      <th></th>\n",
       "      <th></th>\n",
       "      <th></th>\n",
       "      <th></th>\n",
       "      <th></th>\n",
       "      <th></th>\n",
       "      <th></th>\n",
       "      <th></th>\n",
       "      <th></th>\n",
       "      <th></th>\n",
       "      <th></th>\n",
       "    </tr>\n",
       "  </thead>\n",
       "  <tbody>\n",
       "    <tr>\n",
       "      <th>0</th>\n",
       "      <td>-1.373246</td>\n",
       "      <td>0.238887</td>\n",
       "      <td>-0.243376</td>\n",
       "      <td>0.567405</td>\n",
       "      <td>-0.647715</td>\n",
       "      <td>0.839326</td>\n",
       "      <td>0.113133</td>\n",
       "      <td>1</td>\n",
       "      <td>5</td>\n",
       "      <td>1</td>\n",
       "      <td>3</td>\n",
       "      <td>3</td>\n",
       "      <td>3</td>\n",
       "      <td>1</td>\n",
       "      <td>6</td>\n",
       "      <td>1</td>\n",
       "      <td>0</td>\n",
       "      <td>7</td>\n",
       "      <td>4</td>\n",
       "      <td>0.298218</td>\n",
       "      <td>-0.919717</td>\n",
       "      <td>3.058541</td>\n",
       "      <td>-2.540739</td>\n",
       "      <td>0.766952</td>\n",
       "      <td>-2.730628</td>\n",
       "      <td>-0.208177</td>\n",
       "      <td>1.363402</td>\n",
       "      <td>ABABDADBAB</td>\n",
       "      <td>67.609153</td>\n",
       "      <td>0</td>\n",
       "      <td>0</td>\n",
       "      <td>0</td>\n",
       "    </tr>\n",
       "    <tr>\n",
       "      <th>1</th>\n",
       "      <td>1.697021</td>\n",
       "      <td>-1.710322</td>\n",
       "      <td>-2.230332</td>\n",
       "      <td>-0.545661</td>\n",
       "      <td>1.113173</td>\n",
       "      <td>-1.552175</td>\n",
       "      <td>0.447825</td>\n",
       "      <td>1</td>\n",
       "      <td>3</td>\n",
       "      <td>4</td>\n",
       "      <td>0</td>\n",
       "      <td>2</td>\n",
       "      <td>3</td>\n",
       "      <td>0</td>\n",
       "      <td>1</td>\n",
       "      <td>0</td>\n",
       "      <td>4</td>\n",
       "      <td>6</td>\n",
       "      <td>0</td>\n",
       "      <td>-3.147667</td>\n",
       "      <td>-1.075434</td>\n",
       "      <td>2.179050</td>\n",
       "      <td>2.278315</td>\n",
       "      <td>-0.633658</td>\n",
       "      <td>-1.217077</td>\n",
       "      <td>-3.782194</td>\n",
       "      <td>-0.058316</td>\n",
       "      <td>ACACCADCEB</td>\n",
       "      <td>377.096415</td>\n",
       "      <td>0</td>\n",
       "      <td>0</td>\n",
       "      <td>1</td>\n",
       "    </tr>\n",
       "  </tbody>\n",
       "</table>\n",
       "</div>"
      ],
      "text/plain": [
       "        f_00      f_01      f_02      f_03      f_04      f_05      f_06  f_07  f_08  f_09  f_10  f_11  f_12  f_13  f_14  f_15  f_16  f_17  f_18      f_19      f_20      f_21      f_22      f_23      f_24      f_25      f_26        f_27        f_28  f_29  f_30  target\n",
       "id                                                                                                                                                                                                                                                                          \n",
       "0  -1.373246  0.238887 -0.243376  0.567405 -0.647715  0.839326  0.113133     1     5     1     3     3     3     1     6     1     0     7     4  0.298218 -0.919717  3.058541 -2.540739  0.766952 -2.730628 -0.208177  1.363402  ABABDADBAB   67.609153     0     0       0\n",
       "1   1.697021 -1.710322 -2.230332 -0.545661  1.113173 -1.552175  0.447825     1     3     4     0     2     3     0     1     0     4     6     0 -3.147667 -1.075434  2.179050  2.278315 -0.633658 -1.217077 -3.782194 -0.058316  ACACCADCEB  377.096415     0     0       1"
      ]
     },
     "execution_count": 3,
     "metadata": {},
     "output_type": "execute_result"
    }
   ],
   "source": [
    "train_df.head(2)"
   ]
  },
  {
   "cell_type": "code",
   "execution_count": 4,
   "id": "01e15ca0",
   "metadata": {
    "ExecuteTime": {
     "end_time": "2022-08-07T19:46:24.731119Z",
     "start_time": "2022-08-07T19:46:24.718360Z"
    }
   },
   "outputs": [
    {
     "name": "stdout",
     "output_type": "stream",
     "text": [
      "Shape of train data - (900000, 32) and Shape of test data - (700000, 31)\n",
      "Train Data, there are 900,000 rows and 32 columns\n",
      "Test Data, there are 700,000 rows and 31 columns\n"
     ]
    }
   ],
   "source": [
    "print(\"Shape of train data - \", train_df.shape, \" and \", \"Shape of test data - \", test_df.shape, sep = \"\")\n",
    "print(\"Train Data, there are {:,.0f} rows and {:,.0f} columns\".format(train_df.shape[0], train_df.shape[1]))\n",
    "print(\"Test Data, there are {:,.0f} rows and {:,.0f} columns\".format(test_df.shape[0], test_df.shape[1]))"
   ]
  },
  {
   "cell_type": "code",
   "execution_count": 5,
   "id": "49c56125",
   "metadata": {
    "ExecuteTime": {
     "end_time": "2022-08-07T19:46:26.527955Z",
     "start_time": "2022-08-07T19:46:25.286102Z"
    }
   },
   "outputs": [
    {
     "data": {
      "text/html": [
       "<style  type=\"text/css\" >\n",
       "#T_9fc2a32c_1689_11ed_b6ed_00155d3c3bdfrow1_col0,#T_9fc2a32c_1689_11ed_b6ed_00155d3c3bdfrow1_col4,#T_9fc2a32c_1689_11ed_b6ed_00155d3c3bdfrow1_col5,#T_9fc2a32c_1689_11ed_b6ed_00155d3c3bdfrow5_col0,#T_9fc2a32c_1689_11ed_b6ed_00155d3c3bdfrow5_col4,#T_9fc2a32c_1689_11ed_b6ed_00155d3c3bdfrow5_col5{\n",
       "            background-color:  #7fcdc3;\n",
       "            color:  #000000;\n",
       "        }#T_9fc2a32c_1689_11ed_b6ed_00155d3c3bdfrow1_col1,#T_9fc2a32c_1689_11ed_b6ed_00155d3c3bdfrow1_col25,#T_9fc2a32c_1689_11ed_b6ed_00155d3c3bdfrow5_col1,#T_9fc2a32c_1689_11ed_b6ed_00155d3c3bdfrow5_col25{\n",
       "            background-color:  #7dcdc3;\n",
       "            color:  #000000;\n",
       "        }#T_9fc2a32c_1689_11ed_b6ed_00155d3c3bdfrow1_col2,#T_9fc2a32c_1689_11ed_b6ed_00155d3c3bdfrow5_col2{\n",
       "            background-color:  #81cec2;\n",
       "            color:  #000000;\n",
       "        }#T_9fc2a32c_1689_11ed_b6ed_00155d3c3bdfrow1_col3,#T_9fc2a32c_1689_11ed_b6ed_00155d3c3bdfrow1_col22,#T_9fc2a32c_1689_11ed_b6ed_00155d3c3bdfrow5_col3{\n",
       "            background-color:  #77cac5;\n",
       "            color:  #000000;\n",
       "        }#T_9fc2a32c_1689_11ed_b6ed_00155d3c3bdfrow1_col6,#T_9fc2a32c_1689_11ed_b6ed_00155d3c3bdfrow1_col29,#T_9fc2a32c_1689_11ed_b6ed_00155d3c3bdfrow5_col6,#T_9fc2a32c_1689_11ed_b6ed_00155d3c3bdfrow5_col29{\n",
       "            background-color:  #7accc4;\n",
       "            color:  #000000;\n",
       "        }#T_9fc2a32c_1689_11ed_b6ed_00155d3c3bdfrow1_col7,#T_9fc2a32c_1689_11ed_b6ed_00155d3c3bdfrow5_col7,#T_9fc2a32c_1689_11ed_b6ed_00155d3c3bdfrow5_col16{\n",
       "            background-color:  #dff2da;\n",
       "            color:  #000000;\n",
       "        }#T_9fc2a32c_1689_11ed_b6ed_00155d3c3bdfrow1_col8,#T_9fc2a32c_1689_11ed_b6ed_00155d3c3bdfrow2_col13,#T_9fc2a32c_1689_11ed_b6ed_00155d3c3bdfrow4_col12,#T_9fc2a32c_1689_11ed_b6ed_00155d3c3bdfrow5_col8{\n",
       "            background-color:  #e0f3db;\n",
       "            color:  #000000;\n",
       "        }#T_9fc2a32c_1689_11ed_b6ed_00155d3c3bdfrow1_col9{\n",
       "            background-color:  #d9f0d3;\n",
       "            color:  #000000;\n",
       "        }#T_9fc2a32c_1689_11ed_b6ed_00155d3c3bdfrow1_col10,#T_9fc2a32c_1689_11ed_b6ed_00155d3c3bdfrow5_col11,#T_9fc2a32c_1689_11ed_b6ed_00155d3c3bdfrow5_col18{\n",
       "            background-color:  #dcf1d6;\n",
       "            color:  #000000;\n",
       "        }#T_9fc2a32c_1689_11ed_b6ed_00155d3c3bdfrow1_col11,#T_9fc2a32c_1689_11ed_b6ed_00155d3c3bdfrow1_col16{\n",
       "            background-color:  #def2d9;\n",
       "            color:  #000000;\n",
       "        }#T_9fc2a32c_1689_11ed_b6ed_00155d3c3bdfrow1_col12{\n",
       "            background-color:  #d8f0d2;\n",
       "            color:  #000000;\n",
       "        }#T_9fc2a32c_1689_11ed_b6ed_00155d3c3bdfrow1_col13{\n",
       "            background-color:  #d7efd1;\n",
       "            color:  #000000;\n",
       "        }#T_9fc2a32c_1689_11ed_b6ed_00155d3c3bdfrow1_col14{\n",
       "            background-color:  #e4f4de;\n",
       "            color:  #000000;\n",
       "        }#T_9fc2a32c_1689_11ed_b6ed_00155d3c3bdfrow1_col15{\n",
       "            background-color:  #dcf1d7;\n",
       "            color:  #000000;\n",
       "        }#T_9fc2a32c_1689_11ed_b6ed_00155d3c3bdfrow1_col17{\n",
       "            background-color:  #dff3da;\n",
       "            color:  #000000;\n",
       "        }#T_9fc2a32c_1689_11ed_b6ed_00155d3c3bdfrow1_col18{\n",
       "            background-color:  #dbf1d5;\n",
       "            color:  #000000;\n",
       "        }#T_9fc2a32c_1689_11ed_b6ed_00155d3c3bdfrow1_col19,#T_9fc2a32c_1689_11ed_b6ed_00155d3c3bdfrow1_col27,#T_9fc2a32c_1689_11ed_b6ed_00155d3c3bdfrow2_col30,#T_9fc2a32c_1689_11ed_b6ed_00155d3c3bdfrow5_col19,#T_9fc2a32c_1689_11ed_b6ed_00155d3c3bdfrow5_col27{\n",
       "            background-color:  #7cccc4;\n",
       "            color:  #000000;\n",
       "        }#T_9fc2a32c_1689_11ed_b6ed_00155d3c3bdfrow1_col20,#T_9fc2a32c_1689_11ed_b6ed_00155d3c3bdfrow1_col23,#T_9fc2a32c_1689_11ed_b6ed_00155d3c3bdfrow1_col30,#T_9fc2a32c_1689_11ed_b6ed_00155d3c3bdfrow5_col20,#T_9fc2a32c_1689_11ed_b6ed_00155d3c3bdfrow5_col23{\n",
       "            background-color:  #80cec2;\n",
       "            color:  #000000;\n",
       "        }#T_9fc2a32c_1689_11ed_b6ed_00155d3c3bdfrow1_col21,#T_9fc2a32c_1689_11ed_b6ed_00155d3c3bdfrow2_col28,#T_9fc2a32c_1689_11ed_b6ed_00155d3c3bdfrow5_col21{\n",
       "            background-color:  #84cfc1;\n",
       "            color:  #000000;\n",
       "        }#T_9fc2a32c_1689_11ed_b6ed_00155d3c3bdfrow1_col24,#T_9fc2a32c_1689_11ed_b6ed_00155d3c3bdfrow5_col24{\n",
       "            background-color:  #87d1c0;\n",
       "            color:  #000000;\n",
       "        }#T_9fc2a32c_1689_11ed_b6ed_00155d3c3bdfrow1_col26{\n",
       "            background-color:  #6ec5c8;\n",
       "            color:  #000000;\n",
       "        }#T_9fc2a32c_1689_11ed_b6ed_00155d3c3bdfrow1_col28{\n",
       "            background-color:  #b1e0b9;\n",
       "            color:  #000000;\n",
       "        }#T_9fc2a32c_1689_11ed_b6ed_00155d3c3bdfrow2_col0,#T_9fc2a32c_1689_11ed_b6ed_00155d3c3bdfrow2_col1,#T_9fc2a32c_1689_11ed_b6ed_00155d3c3bdfrow2_col20,#T_9fc2a32c_1689_11ed_b6ed_00155d3c3bdfrow2_col23,#T_9fc2a32c_1689_11ed_b6ed_00155d3c3bdfrow6_col26{\n",
       "            background-color:  #57b8d0;\n",
       "            color:  #000000;\n",
       "        }#T_9fc2a32c_1689_11ed_b6ed_00155d3c3bdfrow2_col2,#T_9fc2a32c_1689_11ed_b6ed_00155d3c3bdfrow2_col25{\n",
       "            background-color:  #5bbacf;\n",
       "            color:  #000000;\n",
       "        }#T_9fc2a32c_1689_11ed_b6ed_00155d3c3bdfrow2_col3{\n",
       "            background-color:  #50b4d2;\n",
       "            color:  #000000;\n",
       "        }#T_9fc2a32c_1689_11ed_b6ed_00155d3c3bdfrow2_col4,#T_9fc2a32c_1689_11ed_b6ed_00155d3c3bdfrow2_col5{\n",
       "            background-color:  #5abacf;\n",
       "            color:  #000000;\n",
       "        }#T_9fc2a32c_1689_11ed_b6ed_00155d3c3bdfrow2_col6{\n",
       "            background-color:  #56b7d0;\n",
       "            color:  #000000;\n",
       "        }#T_9fc2a32c_1689_11ed_b6ed_00155d3c3bdfrow2_col7,#T_9fc2a32c_1689_11ed_b6ed_00155d3c3bdfrow2_col12,#T_9fc2a32c_1689_11ed_b6ed_00155d3c3bdfrow2_col15{\n",
       "            background-color:  #e3f4de;\n",
       "            color:  #000000;\n",
       "        }#T_9fc2a32c_1689_11ed_b6ed_00155d3c3bdfrow2_col8{\n",
       "            background-color:  #e5f5e0;\n",
       "            color:  #000000;\n",
       "        }#T_9fc2a32c_1689_11ed_b6ed_00155d3c3bdfrow2_col9{\n",
       "            background-color:  #e2f4dd;\n",
       "            color:  #000000;\n",
       "        }#T_9fc2a32c_1689_11ed_b6ed_00155d3c3bdfrow2_col10,#T_9fc2a32c_1689_11ed_b6ed_00155d3c3bdfrow2_col11,#T_9fc2a32c_1689_11ed_b6ed_00155d3c3bdfrow2_col18{\n",
       "            background-color:  #e1f4dc;\n",
       "            color:  #000000;\n",
       "        }#T_9fc2a32c_1689_11ed_b6ed_00155d3c3bdfrow2_col14{\n",
       "            background-color:  #e6f5e0;\n",
       "            color:  #000000;\n",
       "        }#T_9fc2a32c_1689_11ed_b6ed_00155d3c3bdfrow2_col16,#T_9fc2a32c_1689_11ed_b6ed_00155d3c3bdfrow2_col17{\n",
       "            background-color:  #e4f5df;\n",
       "            color:  #000000;\n",
       "        }#T_9fc2a32c_1689_11ed_b6ed_00155d3c3bdfrow2_col19,#T_9fc2a32c_1689_11ed_b6ed_00155d3c3bdfrow6_col3,#T_9fc2a32c_1689_11ed_b6ed_00155d3c3bdfrow6_col22{\n",
       "            background-color:  #5dbbce;\n",
       "            color:  #000000;\n",
       "        }#T_9fc2a32c_1689_11ed_b6ed_00155d3c3bdfrow2_col21{\n",
       "            background-color:  #62becc;\n",
       "            color:  #000000;\n",
       "        }#T_9fc2a32c_1689_11ed_b6ed_00155d3c3bdfrow2_col22,#T_9fc2a32c_1689_11ed_b6ed_00155d3c3bdfrow2_col26{\n",
       "            background-color:  #51b5d2;\n",
       "            color:  #000000;\n",
       "        }#T_9fc2a32c_1689_11ed_b6ed_00155d3c3bdfrow2_col24{\n",
       "            background-color:  #5ebcce;\n",
       "            color:  #000000;\n",
       "        }#T_9fc2a32c_1689_11ed_b6ed_00155d3c3bdfrow2_col27{\n",
       "            background-color:  #58b9d0;\n",
       "            color:  #000000;\n",
       "        }#T_9fc2a32c_1689_11ed_b6ed_00155d3c3bdfrow2_col29{\n",
       "            background-color:  #9cd9b9;\n",
       "            color:  #000000;\n",
       "        }#T_9fc2a32c_1689_11ed_b6ed_00155d3c3bdfrow3_col0,#T_9fc2a32c_1689_11ed_b6ed_00155d3c3bdfrow3_col1,#T_9fc2a32c_1689_11ed_b6ed_00155d3c3bdfrow3_col2,#T_9fc2a32c_1689_11ed_b6ed_00155d3c3bdfrow3_col3,#T_9fc2a32c_1689_11ed_b6ed_00155d3c3bdfrow3_col4,#T_9fc2a32c_1689_11ed_b6ed_00155d3c3bdfrow3_col5,#T_9fc2a32c_1689_11ed_b6ed_00155d3c3bdfrow3_col6,#T_9fc2a32c_1689_11ed_b6ed_00155d3c3bdfrow3_col7,#T_9fc2a32c_1689_11ed_b6ed_00155d3c3bdfrow3_col8,#T_9fc2a32c_1689_11ed_b6ed_00155d3c3bdfrow3_col9,#T_9fc2a32c_1689_11ed_b6ed_00155d3c3bdfrow3_col10,#T_9fc2a32c_1689_11ed_b6ed_00155d3c3bdfrow3_col11,#T_9fc2a32c_1689_11ed_b6ed_00155d3c3bdfrow3_col12,#T_9fc2a32c_1689_11ed_b6ed_00155d3c3bdfrow3_col13,#T_9fc2a32c_1689_11ed_b6ed_00155d3c3bdfrow3_col14,#T_9fc2a32c_1689_11ed_b6ed_00155d3c3bdfrow3_col15,#T_9fc2a32c_1689_11ed_b6ed_00155d3c3bdfrow3_col16,#T_9fc2a32c_1689_11ed_b6ed_00155d3c3bdfrow3_col17,#T_9fc2a32c_1689_11ed_b6ed_00155d3c3bdfrow3_col18,#T_9fc2a32c_1689_11ed_b6ed_00155d3c3bdfrow3_col19,#T_9fc2a32c_1689_11ed_b6ed_00155d3c3bdfrow3_col20,#T_9fc2a32c_1689_11ed_b6ed_00155d3c3bdfrow3_col21,#T_9fc2a32c_1689_11ed_b6ed_00155d3c3bdfrow3_col22,#T_9fc2a32c_1689_11ed_b6ed_00155d3c3bdfrow3_col23,#T_9fc2a32c_1689_11ed_b6ed_00155d3c3bdfrow3_col24,#T_9fc2a32c_1689_11ed_b6ed_00155d3c3bdfrow3_col25,#T_9fc2a32c_1689_11ed_b6ed_00155d3c3bdfrow3_col26,#T_9fc2a32c_1689_11ed_b6ed_00155d3c3bdfrow3_col27,#T_9fc2a32c_1689_11ed_b6ed_00155d3c3bdfrow3_col28,#T_9fc2a32c_1689_11ed_b6ed_00155d3c3bdfrow3_col29,#T_9fc2a32c_1689_11ed_b6ed_00155d3c3bdfrow3_col30,#T_9fc2a32c_1689_11ed_b6ed_00155d3c3bdfrow4_col14,#T_9fc2a32c_1689_11ed_b6ed_00155d3c3bdfrow4_col28,#T_9fc2a32c_1689_11ed_b6ed_00155d3c3bdfrow4_col29,#T_9fc2a32c_1689_11ed_b6ed_00155d3c3bdfrow4_col30,#T_9fc2a32c_1689_11ed_b6ed_00155d3c3bdfrow5_col28,#T_9fc2a32c_1689_11ed_b6ed_00155d3c3bdfrow5_col30{\n",
       "            background-color:  #f7fcf0;\n",
       "            color:  #000000;\n",
       "        }#T_9fc2a32c_1689_11ed_b6ed_00155d3c3bdfrow4_col0,#T_9fc2a32c_1689_11ed_b6ed_00155d3c3bdfrow4_col4,#T_9fc2a32c_1689_11ed_b6ed_00155d3c3bdfrow4_col5,#T_9fc2a32c_1689_11ed_b6ed_00155d3c3bdfrow4_col23{\n",
       "            background-color:  #98d7ba;\n",
       "            color:  #000000;\n",
       "        }#T_9fc2a32c_1689_11ed_b6ed_00155d3c3bdfrow4_col1{\n",
       "            background-color:  #97d6bb;\n",
       "            color:  #000000;\n",
       "        }#T_9fc2a32c_1689_11ed_b6ed_00155d3c3bdfrow4_col2,#T_9fc2a32c_1689_11ed_b6ed_00155d3c3bdfrow4_col21{\n",
       "            background-color:  #9bd8b9;\n",
       "            color:  #000000;\n",
       "        }#T_9fc2a32c_1689_11ed_b6ed_00155d3c3bdfrow4_col3,#T_9fc2a32c_1689_11ed_b6ed_00155d3c3bdfrow4_col27{\n",
       "            background-color:  #92d5bc;\n",
       "            color:  #000000;\n",
       "        }#T_9fc2a32c_1689_11ed_b6ed_00155d3c3bdfrow4_col6,#T_9fc2a32c_1689_11ed_b6ed_00155d3c3bdfrow4_col19{\n",
       "            background-color:  #94d5bc;\n",
       "            color:  #000000;\n",
       "        }#T_9fc2a32c_1689_11ed_b6ed_00155d3c3bdfrow4_col7,#T_9fc2a32c_1689_11ed_b6ed_00155d3c3bdfrow4_col8,#T_9fc2a32c_1689_11ed_b6ed_00155d3c3bdfrow4_col16{\n",
       "            background-color:  #ebf7e5;\n",
       "            color:  #000000;\n",
       "        }#T_9fc2a32c_1689_11ed_b6ed_00155d3c3bdfrow4_col9,#T_9fc2a32c_1689_11ed_b6ed_00155d3c3bdfrow4_col10,#T_9fc2a32c_1689_11ed_b6ed_00155d3c3bdfrow4_col15,#T_9fc2a32c_1689_11ed_b6ed_00155d3c3bdfrow4_col17,#T_9fc2a32c_1689_11ed_b6ed_00155d3c3bdfrow5_col14{\n",
       "            background-color:  #eaf7e4;\n",
       "            color:  #000000;\n",
       "        }#T_9fc2a32c_1689_11ed_b6ed_00155d3c3bdfrow4_col11,#T_9fc2a32c_1689_11ed_b6ed_00155d3c3bdfrow4_col18{\n",
       "            background-color:  #e9f7e3;\n",
       "            color:  #000000;\n",
       "        }#T_9fc2a32c_1689_11ed_b6ed_00155d3c3bdfrow4_col13{\n",
       "            background-color:  #e8f6e2;\n",
       "            color:  #000000;\n",
       "        }#T_9fc2a32c_1689_11ed_b6ed_00155d3c3bdfrow4_col20{\n",
       "            background-color:  #99d7ba;\n",
       "            color:  #000000;\n",
       "        }#T_9fc2a32c_1689_11ed_b6ed_00155d3c3bdfrow4_col22{\n",
       "            background-color:  #91d4bd;\n",
       "            color:  #000000;\n",
       "        }#T_9fc2a32c_1689_11ed_b6ed_00155d3c3bdfrow4_col24{\n",
       "            background-color:  #a0dab8;\n",
       "            color:  #000000;\n",
       "        }#T_9fc2a32c_1689_11ed_b6ed_00155d3c3bdfrow4_col25{\n",
       "            background-color:  #95d6bb;\n",
       "            color:  #000000;\n",
       "        }#T_9fc2a32c_1689_11ed_b6ed_00155d3c3bdfrow4_col26{\n",
       "            background-color:  #83cfc1;\n",
       "            color:  #000000;\n",
       "        }#T_9fc2a32c_1689_11ed_b6ed_00155d3c3bdfrow5_col9,#T_9fc2a32c_1689_11ed_b6ed_00155d3c3bdfrow5_col10,#T_9fc2a32c_1689_11ed_b6ed_00155d3c3bdfrow5_col15,#T_9fc2a32c_1689_11ed_b6ed_00155d3c3bdfrow5_col17,#T_9fc2a32c_1689_11ed_b6ed_00155d3c3bdfrow6_col14{\n",
       "            background-color:  #ddf2d8;\n",
       "            color:  #000000;\n",
       "        }#T_9fc2a32c_1689_11ed_b6ed_00155d3c3bdfrow5_col12,#T_9fc2a32c_1689_11ed_b6ed_00155d3c3bdfrow6_col8{\n",
       "            background-color:  #d6efd0;\n",
       "            color:  #000000;\n",
       "        }#T_9fc2a32c_1689_11ed_b6ed_00155d3c3bdfrow5_col13{\n",
       "            background-color:  #daf0d4;\n",
       "            color:  #000000;\n",
       "        }#T_9fc2a32c_1689_11ed_b6ed_00155d3c3bdfrow5_col22{\n",
       "            background-color:  #76c9c6;\n",
       "            color:  #000000;\n",
       "        }#T_9fc2a32c_1689_11ed_b6ed_00155d3c3bdfrow5_col26{\n",
       "            background-color:  #6cc4c9;\n",
       "            color:  #000000;\n",
       "        }#T_9fc2a32c_1689_11ed_b6ed_00155d3c3bdfrow6_col0,#T_9fc2a32c_1689_11ed_b6ed_00155d3c3bdfrow6_col1,#T_9fc2a32c_1689_11ed_b6ed_00155d3c3bdfrow6_col19,#T_9fc2a32c_1689_11ed_b6ed_00155d3c3bdfrow6_col27{\n",
       "            background-color:  #64bfcc;\n",
       "            color:  #000000;\n",
       "        }#T_9fc2a32c_1689_11ed_b6ed_00155d3c3bdfrow6_col2,#T_9fc2a32c_1689_11ed_b6ed_00155d3c3bdfrow6_col23{\n",
       "            background-color:  #68c1ca;\n",
       "            color:  #000000;\n",
       "        }#T_9fc2a32c_1689_11ed_b6ed_00155d3c3bdfrow6_col4,#T_9fc2a32c_1689_11ed_b6ed_00155d3c3bdfrow6_col20,#T_9fc2a32c_1689_11ed_b6ed_00155d3c3bdfrow6_col25{\n",
       "            background-color:  #65c0cb;\n",
       "            color:  #000000;\n",
       "        }#T_9fc2a32c_1689_11ed_b6ed_00155d3c3bdfrow6_col5{\n",
       "            background-color:  #67c1cb;\n",
       "            color:  #000000;\n",
       "        }#T_9fc2a32c_1689_11ed_b6ed_00155d3c3bdfrow6_col6{\n",
       "            background-color:  #61bdcd;\n",
       "            color:  #000000;\n",
       "        }#T_9fc2a32c_1689_11ed_b6ed_00155d3c3bdfrow6_col7,#T_9fc2a32c_1689_11ed_b6ed_00155d3c3bdfrow6_col16{\n",
       "            background-color:  #d4eece;\n",
       "            color:  #000000;\n",
       "        }#T_9fc2a32c_1689_11ed_b6ed_00155d3c3bdfrow6_col9,#T_9fc2a32c_1689_11ed_b6ed_00155d3c3bdfrow6_col10,#T_9fc2a32c_1689_11ed_b6ed_00155d3c3bdfrow6_col15,#T_9fc2a32c_1689_11ed_b6ed_00155d3c3bdfrow6_col17{\n",
       "            background-color:  #d2edcc;\n",
       "            color:  #000000;\n",
       "        }#T_9fc2a32c_1689_11ed_b6ed_00155d3c3bdfrow6_col11,#T_9fc2a32c_1689_11ed_b6ed_00155d3c3bdfrow6_col18{\n",
       "            background-color:  #cfecc8;\n",
       "            color:  #000000;\n",
       "        }#T_9fc2a32c_1689_11ed_b6ed_00155d3c3bdfrow6_col12,#T_9fc2a32c_1689_11ed_b6ed_00155d3c3bdfrow6_col13{\n",
       "            background-color:  #ccebc5;\n",
       "            color:  #000000;\n",
       "        }#T_9fc2a32c_1689_11ed_b6ed_00155d3c3bdfrow6_col21,#T_9fc2a32c_1689_11ed_b6ed_00155d3c3bdfrow6_col24{\n",
       "            background-color:  #6fc5c8;\n",
       "            color:  #000000;\n",
       "        }#T_9fc2a32c_1689_11ed_b6ed_00155d3c3bdfrow6_col28,#T_9fc2a32c_1689_11ed_b6ed_00155d3c3bdfrow6_col29,#T_9fc2a32c_1689_11ed_b6ed_00155d3c3bdfrow6_col30,#T_9fc2a32c_1689_11ed_b6ed_00155d3c3bdfrow7_col0,#T_9fc2a32c_1689_11ed_b6ed_00155d3c3bdfrow7_col1,#T_9fc2a32c_1689_11ed_b6ed_00155d3c3bdfrow7_col2,#T_9fc2a32c_1689_11ed_b6ed_00155d3c3bdfrow7_col3,#T_9fc2a32c_1689_11ed_b6ed_00155d3c3bdfrow7_col4,#T_9fc2a32c_1689_11ed_b6ed_00155d3c3bdfrow7_col5,#T_9fc2a32c_1689_11ed_b6ed_00155d3c3bdfrow7_col6,#T_9fc2a32c_1689_11ed_b6ed_00155d3c3bdfrow7_col7,#T_9fc2a32c_1689_11ed_b6ed_00155d3c3bdfrow7_col8,#T_9fc2a32c_1689_11ed_b6ed_00155d3c3bdfrow7_col9,#T_9fc2a32c_1689_11ed_b6ed_00155d3c3bdfrow7_col10,#T_9fc2a32c_1689_11ed_b6ed_00155d3c3bdfrow7_col11,#T_9fc2a32c_1689_11ed_b6ed_00155d3c3bdfrow7_col12,#T_9fc2a32c_1689_11ed_b6ed_00155d3c3bdfrow7_col13,#T_9fc2a32c_1689_11ed_b6ed_00155d3c3bdfrow7_col14,#T_9fc2a32c_1689_11ed_b6ed_00155d3c3bdfrow7_col15,#T_9fc2a32c_1689_11ed_b6ed_00155d3c3bdfrow7_col16,#T_9fc2a32c_1689_11ed_b6ed_00155d3c3bdfrow7_col17,#T_9fc2a32c_1689_11ed_b6ed_00155d3c3bdfrow7_col18,#T_9fc2a32c_1689_11ed_b6ed_00155d3c3bdfrow7_col19,#T_9fc2a32c_1689_11ed_b6ed_00155d3c3bdfrow7_col20,#T_9fc2a32c_1689_11ed_b6ed_00155d3c3bdfrow7_col21,#T_9fc2a32c_1689_11ed_b6ed_00155d3c3bdfrow7_col22,#T_9fc2a32c_1689_11ed_b6ed_00155d3c3bdfrow7_col23,#T_9fc2a32c_1689_11ed_b6ed_00155d3c3bdfrow7_col24,#T_9fc2a32c_1689_11ed_b6ed_00155d3c3bdfrow7_col25,#T_9fc2a32c_1689_11ed_b6ed_00155d3c3bdfrow7_col26,#T_9fc2a32c_1689_11ed_b6ed_00155d3c3bdfrow7_col27,#T_9fc2a32c_1689_11ed_b6ed_00155d3c3bdfrow7_col28,#T_9fc2a32c_1689_11ed_b6ed_00155d3c3bdfrow7_col29,#T_9fc2a32c_1689_11ed_b6ed_00155d3c3bdfrow7_col30{\n",
       "            background-color:  #084081;\n",
       "            color:  #f1f1f1;\n",
       "        }</style><table id=\"T_9fc2a32c_1689_11ed_b6ed_00155d3c3bdf\" ><thead>    <tr>        <th class=\"blank level0\" ></th>        <th class=\"col_heading level0 col0\" >f_00</th>        <th class=\"col_heading level0 col1\" >f_01</th>        <th class=\"col_heading level0 col2\" >f_02</th>        <th class=\"col_heading level0 col3\" >f_03</th>        <th class=\"col_heading level0 col4\" >f_04</th>        <th class=\"col_heading level0 col5\" >f_05</th>        <th class=\"col_heading level0 col6\" >f_06</th>        <th class=\"col_heading level0 col7\" >f_07</th>        <th class=\"col_heading level0 col8\" >f_08</th>        <th class=\"col_heading level0 col9\" >f_09</th>        <th class=\"col_heading level0 col10\" >f_10</th>        <th class=\"col_heading level0 col11\" >f_11</th>        <th class=\"col_heading level0 col12\" >f_12</th>        <th class=\"col_heading level0 col13\" >f_13</th>        <th class=\"col_heading level0 col14\" >f_14</th>        <th class=\"col_heading level0 col15\" >f_15</th>        <th class=\"col_heading level0 col16\" >f_16</th>        <th class=\"col_heading level0 col17\" >f_17</th>        <th class=\"col_heading level0 col18\" >f_18</th>        <th class=\"col_heading level0 col19\" >f_19</th>        <th class=\"col_heading level0 col20\" >f_20</th>        <th class=\"col_heading level0 col21\" >f_21</th>        <th class=\"col_heading level0 col22\" >f_22</th>        <th class=\"col_heading level0 col23\" >f_23</th>        <th class=\"col_heading level0 col24\" >f_24</th>        <th class=\"col_heading level0 col25\" >f_25</th>        <th class=\"col_heading level0 col26\" >f_26</th>        <th class=\"col_heading level0 col27\" >f_28</th>        <th class=\"col_heading level0 col28\" >f_29</th>        <th class=\"col_heading level0 col29\" >f_30</th>        <th class=\"col_heading level0 col30\" >target</th>    </tr></thead><tbody>\n",
       "                <tr>\n",
       "                        <th id=\"T_9fc2a32c_1689_11ed_b6ed_00155d3c3bdflevel0_row0\" class=\"row_heading level0 row0\" >count</th>\n",
       "                        <td id=\"T_9fc2a32c_1689_11ed_b6ed_00155d3c3bdfrow0_col0\" class=\"data row0 col0\" >900,000.000</td>\n",
       "                        <td id=\"T_9fc2a32c_1689_11ed_b6ed_00155d3c3bdfrow0_col1\" class=\"data row0 col1\" >900,000.000</td>\n",
       "                        <td id=\"T_9fc2a32c_1689_11ed_b6ed_00155d3c3bdfrow0_col2\" class=\"data row0 col2\" >900,000.000</td>\n",
       "                        <td id=\"T_9fc2a32c_1689_11ed_b6ed_00155d3c3bdfrow0_col3\" class=\"data row0 col3\" >900,000.000</td>\n",
       "                        <td id=\"T_9fc2a32c_1689_11ed_b6ed_00155d3c3bdfrow0_col4\" class=\"data row0 col4\" >900,000.000</td>\n",
       "                        <td id=\"T_9fc2a32c_1689_11ed_b6ed_00155d3c3bdfrow0_col5\" class=\"data row0 col5\" >900,000.000</td>\n",
       "                        <td id=\"T_9fc2a32c_1689_11ed_b6ed_00155d3c3bdfrow0_col6\" class=\"data row0 col6\" >900,000.000</td>\n",
       "                        <td id=\"T_9fc2a32c_1689_11ed_b6ed_00155d3c3bdfrow0_col7\" class=\"data row0 col7\" >900,000.000</td>\n",
       "                        <td id=\"T_9fc2a32c_1689_11ed_b6ed_00155d3c3bdfrow0_col8\" class=\"data row0 col8\" >900,000.000</td>\n",
       "                        <td id=\"T_9fc2a32c_1689_11ed_b6ed_00155d3c3bdfrow0_col9\" class=\"data row0 col9\" >900,000.000</td>\n",
       "                        <td id=\"T_9fc2a32c_1689_11ed_b6ed_00155d3c3bdfrow0_col10\" class=\"data row0 col10\" >900,000.000</td>\n",
       "                        <td id=\"T_9fc2a32c_1689_11ed_b6ed_00155d3c3bdfrow0_col11\" class=\"data row0 col11\" >900,000.000</td>\n",
       "                        <td id=\"T_9fc2a32c_1689_11ed_b6ed_00155d3c3bdfrow0_col12\" class=\"data row0 col12\" >900,000.000</td>\n",
       "                        <td id=\"T_9fc2a32c_1689_11ed_b6ed_00155d3c3bdfrow0_col13\" class=\"data row0 col13\" >900,000.000</td>\n",
       "                        <td id=\"T_9fc2a32c_1689_11ed_b6ed_00155d3c3bdfrow0_col14\" class=\"data row0 col14\" >900,000.000</td>\n",
       "                        <td id=\"T_9fc2a32c_1689_11ed_b6ed_00155d3c3bdfrow0_col15\" class=\"data row0 col15\" >900,000.000</td>\n",
       "                        <td id=\"T_9fc2a32c_1689_11ed_b6ed_00155d3c3bdfrow0_col16\" class=\"data row0 col16\" >900,000.000</td>\n",
       "                        <td id=\"T_9fc2a32c_1689_11ed_b6ed_00155d3c3bdfrow0_col17\" class=\"data row0 col17\" >900,000.000</td>\n",
       "                        <td id=\"T_9fc2a32c_1689_11ed_b6ed_00155d3c3bdfrow0_col18\" class=\"data row0 col18\" >900,000.000</td>\n",
       "                        <td id=\"T_9fc2a32c_1689_11ed_b6ed_00155d3c3bdfrow0_col19\" class=\"data row0 col19\" >900,000.000</td>\n",
       "                        <td id=\"T_9fc2a32c_1689_11ed_b6ed_00155d3c3bdfrow0_col20\" class=\"data row0 col20\" >900,000.000</td>\n",
       "                        <td id=\"T_9fc2a32c_1689_11ed_b6ed_00155d3c3bdfrow0_col21\" class=\"data row0 col21\" >900,000.000</td>\n",
       "                        <td id=\"T_9fc2a32c_1689_11ed_b6ed_00155d3c3bdfrow0_col22\" class=\"data row0 col22\" >900,000.000</td>\n",
       "                        <td id=\"T_9fc2a32c_1689_11ed_b6ed_00155d3c3bdfrow0_col23\" class=\"data row0 col23\" >900,000.000</td>\n",
       "                        <td id=\"T_9fc2a32c_1689_11ed_b6ed_00155d3c3bdfrow0_col24\" class=\"data row0 col24\" >900,000.000</td>\n",
       "                        <td id=\"T_9fc2a32c_1689_11ed_b6ed_00155d3c3bdfrow0_col25\" class=\"data row0 col25\" >900,000.000</td>\n",
       "                        <td id=\"T_9fc2a32c_1689_11ed_b6ed_00155d3c3bdfrow0_col26\" class=\"data row0 col26\" >900,000.000</td>\n",
       "                        <td id=\"T_9fc2a32c_1689_11ed_b6ed_00155d3c3bdfrow0_col27\" class=\"data row0 col27\" >900,000.000</td>\n",
       "                        <td id=\"T_9fc2a32c_1689_11ed_b6ed_00155d3c3bdfrow0_col28\" class=\"data row0 col28\" >900,000.000</td>\n",
       "                        <td id=\"T_9fc2a32c_1689_11ed_b6ed_00155d3c3bdfrow0_col29\" class=\"data row0 col29\" >900,000.000</td>\n",
       "                        <td id=\"T_9fc2a32c_1689_11ed_b6ed_00155d3c3bdfrow0_col30\" class=\"data row0 col30\" >900,000.000</td>\n",
       "            </tr>\n",
       "            <tr>\n",
       "                        <th id=\"T_9fc2a32c_1689_11ed_b6ed_00155d3c3bdflevel0_row1\" class=\"row_heading level0 row1\" >mean</th>\n",
       "                        <td id=\"T_9fc2a32c_1689_11ed_b6ed_00155d3c3bdfrow1_col0\" class=\"data row1 col0\" >-0.000</td>\n",
       "                        <td id=\"T_9fc2a32c_1689_11ed_b6ed_00155d3c3bdfrow1_col1\" class=\"data row1 col1\" >0.001</td>\n",
       "                        <td id=\"T_9fc2a32c_1689_11ed_b6ed_00155d3c3bdfrow1_col2\" class=\"data row1 col2\" >0.001</td>\n",
       "                        <td id=\"T_9fc2a32c_1689_11ed_b6ed_00155d3c3bdfrow1_col3\" class=\"data row1 col3\" >-0.001</td>\n",
       "                        <td id=\"T_9fc2a32c_1689_11ed_b6ed_00155d3c3bdfrow1_col4\" class=\"data row1 col4\" >-0.001</td>\n",
       "                        <td id=\"T_9fc2a32c_1689_11ed_b6ed_00155d3c3bdfrow1_col5\" class=\"data row1 col5\" >0.000</td>\n",
       "                        <td id=\"T_9fc2a32c_1689_11ed_b6ed_00155d3c3bdfrow1_col6\" class=\"data row1 col6\" >-0.001</td>\n",
       "                        <td id=\"T_9fc2a32c_1689_11ed_b6ed_00155d3c3bdfrow1_col7\" class=\"data row1 col7\" >2.031</td>\n",
       "                        <td id=\"T_9fc2a32c_1689_11ed_b6ed_00155d3c3bdfrow1_col8\" class=\"data row1 col8\" >2.058</td>\n",
       "                        <td id=\"T_9fc2a32c_1689_11ed_b6ed_00155d3c3bdfrow1_col9\" class=\"data row1 col9\" >2.362</td>\n",
       "                        <td id=\"T_9fc2a32c_1689_11ed_b6ed_00155d3c3bdfrow1_col10\" class=\"data row1 col10\" >2.178</td>\n",
       "                        <td id=\"T_9fc2a32c_1689_11ed_b6ed_00155d3c3bdfrow1_col11\" class=\"data row1 col11\" >1.803</td>\n",
       "                        <td id=\"T_9fc2a32c_1689_11ed_b6ed_00155d3c3bdfrow1_col12\" class=\"data row1 col12\" >2.842</td>\n",
       "                        <td id=\"T_9fc2a32c_1689_11ed_b6ed_00155d3c3bdfrow1_col13\" class=\"data row1 col13\" >2.240</td>\n",
       "                        <td id=\"T_9fc2a32c_1689_11ed_b6ed_00155d3c3bdfrow1_col14\" class=\"data row1 col14\" >1.515</td>\n",
       "                        <td id=\"T_9fc2a32c_1689_11ed_b6ed_00155d3c3bdfrow1_col15\" class=\"data row1 col15\" >2.101</td>\n",
       "                        <td id=\"T_9fc2a32c_1689_11ed_b6ed_00155d3c3bdfrow1_col16\" class=\"data row1 col16\" >2.097</td>\n",
       "                        <td id=\"T_9fc2a32c_1689_11ed_b6ed_00155d3c3bdfrow1_col17\" class=\"data row1 col17\" >1.859</td>\n",
       "                        <td id=\"T_9fc2a32c_1689_11ed_b6ed_00155d3c3bdfrow1_col18\" class=\"data row1 col18\" >2.065</td>\n",
       "                        <td id=\"T_9fc2a32c_1689_11ed_b6ed_00155d3c3bdfrow1_col19\" class=\"data row1 col19\" >0.309</td>\n",
       "                        <td id=\"T_9fc2a32c_1689_11ed_b6ed_00155d3c3bdfrow1_col20\" class=\"data row1 col20\" >-0.179</td>\n",
       "                        <td id=\"T_9fc2a32c_1689_11ed_b6ed_00155d3c3bdfrow1_col21\" class=\"data row1 col21\" >-0.156</td>\n",
       "                        <td id=\"T_9fc2a32c_1689_11ed_b6ed_00155d3c3bdfrow1_col22\" class=\"data row1 col22\" >-0.009</td>\n",
       "                        <td id=\"T_9fc2a32c_1689_11ed_b6ed_00155d3c3bdfrow1_col23\" class=\"data row1 col23\" >-0.369</td>\n",
       "                        <td id=\"T_9fc2a32c_1689_11ed_b6ed_00155d3c3bdfrow1_col24\" class=\"data row1 col24\" >-0.343</td>\n",
       "                        <td id=\"T_9fc2a32c_1689_11ed_b6ed_00155d3c3bdfrow1_col25\" class=\"data row1 col25\" >0.177</td>\n",
       "                        <td id=\"T_9fc2a32c_1689_11ed_b6ed_00155d3c3bdfrow1_col26\" class=\"data row1 col26\" >0.358</td>\n",
       "                        <td id=\"T_9fc2a32c_1689_11ed_b6ed_00155d3c3bdfrow1_col27\" class=\"data row1 col27\" >-0.381</td>\n",
       "                        <td id=\"T_9fc2a32c_1689_11ed_b6ed_00155d3c3bdfrow1_col28\" class=\"data row1 col28\" >0.346</td>\n",
       "                        <td id=\"T_9fc2a32c_1689_11ed_b6ed_00155d3c3bdfrow1_col29\" class=\"data row1 col29\" >1.003</td>\n",
       "                        <td id=\"T_9fc2a32c_1689_11ed_b6ed_00155d3c3bdfrow1_col30\" class=\"data row1 col30\" >0.486</td>\n",
       "            </tr>\n",
       "            <tr>\n",
       "                        <th id=\"T_9fc2a32c_1689_11ed_b6ed_00155d3c3bdflevel0_row2\" class=\"row_heading level0 row2\" >std</th>\n",
       "                        <td id=\"T_9fc2a32c_1689_11ed_b6ed_00155d3c3bdfrow2_col0\" class=\"data row2 col0\" >0.999</td>\n",
       "                        <td id=\"T_9fc2a32c_1689_11ed_b6ed_00155d3c3bdfrow2_col1\" class=\"data row2 col1\" >0.999</td>\n",
       "                        <td id=\"T_9fc2a32c_1689_11ed_b6ed_00155d3c3bdfrow2_col2\" class=\"data row2 col2\" >1.001</td>\n",
       "                        <td id=\"T_9fc2a32c_1689_11ed_b6ed_00155d3c3bdfrow2_col3\" class=\"data row2 col3\" >1.000</td>\n",
       "                        <td id=\"T_9fc2a32c_1689_11ed_b6ed_00155d3c3bdfrow2_col4\" class=\"data row2 col4\" >1.000</td>\n",
       "                        <td id=\"T_9fc2a32c_1689_11ed_b6ed_00155d3c3bdfrow2_col5\" class=\"data row2 col5\" >1.000</td>\n",
       "                        <td id=\"T_9fc2a32c_1689_11ed_b6ed_00155d3c3bdfrow2_col6\" class=\"data row2 col6\" >1.000</td>\n",
       "                        <td id=\"T_9fc2a32c_1689_11ed_b6ed_00155d3c3bdfrow2_col7\" class=\"data row2 col7\" >1.656</td>\n",
       "                        <td id=\"T_9fc2a32c_1689_11ed_b6ed_00155d3c3bdfrow2_col8\" class=\"data row2 col8\" >1.591</td>\n",
       "                        <td id=\"T_9fc2a32c_1689_11ed_b6ed_00155d3c3bdfrow2_col9\" class=\"data row2 col9\" >1.638</td>\n",
       "                        <td id=\"T_9fc2a32c_1689_11ed_b6ed_00155d3c3bdfrow2_col10\" class=\"data row2 col10\" >1.646</td>\n",
       "                        <td id=\"T_9fc2a32c_1689_11ed_b6ed_00155d3c3bdfrow2_col11\" class=\"data row2 col11\" >1.537</td>\n",
       "                        <td id=\"T_9fc2a32c_1689_11ed_b6ed_00155d3c3bdfrow2_col12\" class=\"data row2 col12\" >1.763</td>\n",
       "                        <td id=\"T_9fc2a32c_1689_11ed_b6ed_00155d3c3bdfrow2_col13\" class=\"data row2 col13\" >1.538</td>\n",
       "                        <td id=\"T_9fc2a32c_1689_11ed_b6ed_00155d3c3bdfrow2_col14\" class=\"data row2 col14\" >1.359</td>\n",
       "                        <td id=\"T_9fc2a32c_1689_11ed_b6ed_00155d3c3bdfrow2_col15\" class=\"data row2 col15\" >1.569</td>\n",
       "                        <td id=\"T_9fc2a32c_1689_11ed_b6ed_00155d3c3bdfrow2_col16\" class=\"data row2 col16\" >1.560</td>\n",
       "                        <td id=\"T_9fc2a32c_1689_11ed_b6ed_00155d3c3bdfrow2_col17\" class=\"data row2 col17\" >1.468</td>\n",
       "                        <td id=\"T_9fc2a32c_1689_11ed_b6ed_00155d3c3bdfrow2_col18\" class=\"data row2 col18\" >1.565</td>\n",
       "                        <td id=\"T_9fc2a32c_1689_11ed_b6ed_00155d3c3bdfrow2_col19\" class=\"data row2 col19\" >2.316</td>\n",
       "                        <td id=\"T_9fc2a32c_1689_11ed_b6ed_00155d3c3bdfrow2_col20\" class=\"data row2 col20\" >2.400</td>\n",
       "                        <td id=\"T_9fc2a32c_1689_11ed_b6ed_00155d3c3bdfrow2_col21\" class=\"data row2 col21\" >2.485</td>\n",
       "                        <td id=\"T_9fc2a32c_1689_11ed_b6ed_00155d3c3bdfrow2_col22\" class=\"data row2 col22\" >2.451</td>\n",
       "                        <td id=\"T_9fc2a32c_1689_11ed_b6ed_00155d3c3bdfrow2_col23\" class=\"data row2 col23\" >2.453</td>\n",
       "                        <td id=\"T_9fc2a32c_1689_11ed_b6ed_00155d3c3bdfrow2_col24\" class=\"data row2 col24\" >2.387</td>\n",
       "                        <td id=\"T_9fc2a32c_1689_11ed_b6ed_00155d3c3bdfrow2_col25\" class=\"data row2 col25\" >2.417</td>\n",
       "                        <td id=\"T_9fc2a32c_1689_11ed_b6ed_00155d3c3bdfrow2_col26\" class=\"data row2 col26\" >2.476</td>\n",
       "                        <td id=\"T_9fc2a32c_1689_11ed_b6ed_00155d3c3bdfrow2_col27\" class=\"data row2 col27\" >238.773</td>\n",
       "                        <td id=\"T_9fc2a32c_1689_11ed_b6ed_00155d3c3bdfrow2_col28\" class=\"data row2 col28\" >0.476</td>\n",
       "                        <td id=\"T_9fc2a32c_1689_11ed_b6ed_00155d3c3bdfrow2_col29\" class=\"data row2 col29\" >0.819</td>\n",
       "                        <td id=\"T_9fc2a32c_1689_11ed_b6ed_00155d3c3bdfrow2_col30\" class=\"data row2 col30\" >0.500</td>\n",
       "            </tr>\n",
       "            <tr>\n",
       "                        <th id=\"T_9fc2a32c_1689_11ed_b6ed_00155d3c3bdflevel0_row3\" class=\"row_heading level0 row3\" >min</th>\n",
       "                        <td id=\"T_9fc2a32c_1689_11ed_b6ed_00155d3c3bdfrow3_col0\" class=\"data row3 col0\" >-4.600</td>\n",
       "                        <td id=\"T_9fc2a32c_1689_11ed_b6ed_00155d3c3bdfrow3_col1\" class=\"data row3 col1\" >-4.682</td>\n",
       "                        <td id=\"T_9fc2a32c_1689_11ed_b6ed_00155d3c3bdfrow3_col2\" class=\"data row3 col2\" >-4.643</td>\n",
       "                        <td id=\"T_9fc2a32c_1689_11ed_b6ed_00155d3c3bdfrow3_col3\" class=\"data row3 col3\" >-4.659</td>\n",
       "                        <td id=\"T_9fc2a32c_1689_11ed_b6ed_00155d3c3bdfrow3_col4\" class=\"data row3 col4\" >-4.749</td>\n",
       "                        <td id=\"T_9fc2a32c_1689_11ed_b6ed_00155d3c3bdfrow3_col5\" class=\"data row3 col5\" >-4.750</td>\n",
       "                        <td id=\"T_9fc2a32c_1689_11ed_b6ed_00155d3c3bdfrow3_col6\" class=\"data row3 col6\" >-4.843</td>\n",
       "                        <td id=\"T_9fc2a32c_1689_11ed_b6ed_00155d3c3bdfrow3_col7\" class=\"data row3 col7\" >0.000</td>\n",
       "                        <td id=\"T_9fc2a32c_1689_11ed_b6ed_00155d3c3bdfrow3_col8\" class=\"data row3 col8\" >0.000</td>\n",
       "                        <td id=\"T_9fc2a32c_1689_11ed_b6ed_00155d3c3bdfrow3_col9\" class=\"data row3 col9\" >0.000</td>\n",
       "                        <td id=\"T_9fc2a32c_1689_11ed_b6ed_00155d3c3bdfrow3_col10\" class=\"data row3 col10\" >0.000</td>\n",
       "                        <td id=\"T_9fc2a32c_1689_11ed_b6ed_00155d3c3bdfrow3_col11\" class=\"data row3 col11\" >0.000</td>\n",
       "                        <td id=\"T_9fc2a32c_1689_11ed_b6ed_00155d3c3bdfrow3_col12\" class=\"data row3 col12\" >0.000</td>\n",
       "                        <td id=\"T_9fc2a32c_1689_11ed_b6ed_00155d3c3bdfrow3_col13\" class=\"data row3 col13\" >0.000</td>\n",
       "                        <td id=\"T_9fc2a32c_1689_11ed_b6ed_00155d3c3bdfrow3_col14\" class=\"data row3 col14\" >0.000</td>\n",
       "                        <td id=\"T_9fc2a32c_1689_11ed_b6ed_00155d3c3bdfrow3_col15\" class=\"data row3 col15\" >0.000</td>\n",
       "                        <td id=\"T_9fc2a32c_1689_11ed_b6ed_00155d3c3bdfrow3_col16\" class=\"data row3 col16\" >0.000</td>\n",
       "                        <td id=\"T_9fc2a32c_1689_11ed_b6ed_00155d3c3bdfrow3_col17\" class=\"data row3 col17\" >0.000</td>\n",
       "                        <td id=\"T_9fc2a32c_1689_11ed_b6ed_00155d3c3bdfrow3_col18\" class=\"data row3 col18\" >0.000</td>\n",
       "                        <td id=\"T_9fc2a32c_1689_11ed_b6ed_00155d3c3bdfrow3_col19\" class=\"data row3 col19\" >-11.281</td>\n",
       "                        <td id=\"T_9fc2a32c_1689_11ed_b6ed_00155d3c3bdfrow3_col20\" class=\"data row3 col20\" >-11.258</td>\n",
       "                        <td id=\"T_9fc2a32c_1689_11ed_b6ed_00155d3c3bdfrow3_col21\" class=\"data row3 col21\" >-13.310</td>\n",
       "                        <td id=\"T_9fc2a32c_1689_11ed_b6ed_00155d3c3bdfrow3_col22\" class=\"data row3 col22\" >-11.854</td>\n",
       "                        <td id=\"T_9fc2a32c_1689_11ed_b6ed_00155d3c3bdfrow3_col23\" class=\"data row3 col23\" >-12.301</td>\n",
       "                        <td id=\"T_9fc2a32c_1689_11ed_b6ed_00155d3c3bdfrow3_col24\" class=\"data row3 col24\" >-11.416</td>\n",
       "                        <td id=\"T_9fc2a32c_1689_11ed_b6ed_00155d3c3bdfrow3_col25\" class=\"data row3 col25\" >-11.918</td>\n",
       "                        <td id=\"T_9fc2a32c_1689_11ed_b6ed_00155d3c3bdfrow3_col26\" class=\"data row3 col26\" >-14.301</td>\n",
       "                        <td id=\"T_9fc2a32c_1689_11ed_b6ed_00155d3c3bdfrow3_col27\" class=\"data row3 col27\" >-1,229.753</td>\n",
       "                        <td id=\"T_9fc2a32c_1689_11ed_b6ed_00155d3c3bdfrow3_col28\" class=\"data row3 col28\" >0.000</td>\n",
       "                        <td id=\"T_9fc2a32c_1689_11ed_b6ed_00155d3c3bdfrow3_col29\" class=\"data row3 col29\" >0.000</td>\n",
       "                        <td id=\"T_9fc2a32c_1689_11ed_b6ed_00155d3c3bdfrow3_col30\" class=\"data row3 col30\" >0.000</td>\n",
       "            </tr>\n",
       "            <tr>\n",
       "                        <th id=\"T_9fc2a32c_1689_11ed_b6ed_00155d3c3bdflevel0_row4\" class=\"row_heading level0 row4\" >25%</th>\n",
       "                        <td id=\"T_9fc2a32c_1689_11ed_b6ed_00155d3c3bdfrow4_col0\" class=\"data row4 col0\" >-0.675</td>\n",
       "                        <td id=\"T_9fc2a32c_1689_11ed_b6ed_00155d3c3bdfrow4_col1\" class=\"data row4 col1\" >-0.675</td>\n",
       "                        <td id=\"T_9fc2a32c_1689_11ed_b6ed_00155d3c3bdfrow4_col2\" class=\"data row4 col2\" >-0.674</td>\n",
       "                        <td id=\"T_9fc2a32c_1689_11ed_b6ed_00155d3c3bdfrow4_col3\" class=\"data row4 col3\" >-0.676</td>\n",
       "                        <td id=\"T_9fc2a32c_1689_11ed_b6ed_00155d3c3bdfrow4_col4\" class=\"data row4 col4\" >-0.676</td>\n",
       "                        <td id=\"T_9fc2a32c_1689_11ed_b6ed_00155d3c3bdfrow4_col5\" class=\"data row4 col5\" >-0.673</td>\n",
       "                        <td id=\"T_9fc2a32c_1689_11ed_b6ed_00155d3c3bdfrow4_col6\" class=\"data row4 col6\" >-0.675</td>\n",
       "                        <td id=\"T_9fc2a32c_1689_11ed_b6ed_00155d3c3bdfrow4_col7\" class=\"data row4 col7\" >1.000</td>\n",
       "                        <td id=\"T_9fc2a32c_1689_11ed_b6ed_00155d3c3bdfrow4_col8\" class=\"data row4 col8\" >1.000</td>\n",
       "                        <td id=\"T_9fc2a32c_1689_11ed_b6ed_00155d3c3bdfrow4_col9\" class=\"data row4 col9\" >1.000</td>\n",
       "                        <td id=\"T_9fc2a32c_1689_11ed_b6ed_00155d3c3bdfrow4_col10\" class=\"data row4 col10\" >1.000</td>\n",
       "                        <td id=\"T_9fc2a32c_1689_11ed_b6ed_00155d3c3bdfrow4_col11\" class=\"data row4 col11\" >1.000</td>\n",
       "                        <td id=\"T_9fc2a32c_1689_11ed_b6ed_00155d3c3bdfrow4_col12\" class=\"data row4 col12\" >2.000</td>\n",
       "                        <td id=\"T_9fc2a32c_1689_11ed_b6ed_00155d3c3bdfrow4_col13\" class=\"data row4 col13\" >1.000</td>\n",
       "                        <td id=\"T_9fc2a32c_1689_11ed_b6ed_00155d3c3bdfrow4_col14\" class=\"data row4 col14\" >0.000</td>\n",
       "                        <td id=\"T_9fc2a32c_1689_11ed_b6ed_00155d3c3bdfrow4_col15\" class=\"data row4 col15\" >1.000</td>\n",
       "                        <td id=\"T_9fc2a32c_1689_11ed_b6ed_00155d3c3bdfrow4_col16\" class=\"data row4 col16\" >1.000</td>\n",
       "                        <td id=\"T_9fc2a32c_1689_11ed_b6ed_00155d3c3bdfrow4_col17\" class=\"data row4 col17\" >1.000</td>\n",
       "                        <td id=\"T_9fc2a32c_1689_11ed_b6ed_00155d3c3bdfrow4_col18\" class=\"data row4 col18\" >1.000</td>\n",
       "                        <td id=\"T_9fc2a32c_1689_11ed_b6ed_00155d3c3bdfrow4_col19\" class=\"data row4 col19\" >-1.236</td>\n",
       "                        <td id=\"T_9fc2a32c_1689_11ed_b6ed_00155d3c3bdfrow4_col20\" class=\"data row4 col20\" >-1.805</td>\n",
       "                        <td id=\"T_9fc2a32c_1689_11ed_b6ed_00155d3c3bdfrow4_col21\" class=\"data row4 col21\" >-1.820</td>\n",
       "                        <td id=\"T_9fc2a32c_1689_11ed_b6ed_00155d3c3bdfrow4_col22\" class=\"data row4 col22\" >-1.646</td>\n",
       "                        <td id=\"T_9fc2a32c_1689_11ed_b6ed_00155d3c3bdfrow4_col23\" class=\"data row4 col23\" >-2.020</td>\n",
       "                        <td id=\"T_9fc2a32c_1689_11ed_b6ed_00155d3c3bdfrow4_col24\" class=\"data row4 col24\" >-1.956</td>\n",
       "                        <td id=\"T_9fc2a32c_1689_11ed_b6ed_00155d3c3bdfrow4_col25\" class=\"data row4 col25\" >-1.440</td>\n",
       "                        <td id=\"T_9fc2a32c_1689_11ed_b6ed_00155d3c3bdfrow4_col26\" class=\"data row4 col26\" >-1.262</td>\n",
       "                        <td id=\"T_9fc2a32c_1689_11ed_b6ed_00155d3c3bdfrow4_col27\" class=\"data row4 col27\" >-159.427</td>\n",
       "                        <td id=\"T_9fc2a32c_1689_11ed_b6ed_00155d3c3bdfrow4_col28\" class=\"data row4 col28\" >0.000</td>\n",
       "                        <td id=\"T_9fc2a32c_1689_11ed_b6ed_00155d3c3bdfrow4_col29\" class=\"data row4 col29\" >0.000</td>\n",
       "                        <td id=\"T_9fc2a32c_1689_11ed_b6ed_00155d3c3bdfrow4_col30\" class=\"data row4 col30\" >0.000</td>\n",
       "            </tr>\n",
       "            <tr>\n",
       "                        <th id=\"T_9fc2a32c_1689_11ed_b6ed_00155d3c3bdflevel0_row5\" class=\"row_heading level0 row5\" >50%</th>\n",
       "                        <td id=\"T_9fc2a32c_1689_11ed_b6ed_00155d3c3bdfrow5_col0\" class=\"data row5 col0\" >0.001</td>\n",
       "                        <td id=\"T_9fc2a32c_1689_11ed_b6ed_00155d3c3bdfrow5_col1\" class=\"data row5 col1\" >0.002</td>\n",
       "                        <td id=\"T_9fc2a32c_1689_11ed_b6ed_00155d3c3bdfrow5_col2\" class=\"data row5 col2\" >0.002</td>\n",
       "                        <td id=\"T_9fc2a32c_1689_11ed_b6ed_00155d3c3bdfrow5_col3\" class=\"data row5 col3\" >-0.002</td>\n",
       "                        <td id=\"T_9fc2a32c_1689_11ed_b6ed_00155d3c3bdfrow5_col4\" class=\"data row5 col4\" >-0.002</td>\n",
       "                        <td id=\"T_9fc2a32c_1689_11ed_b6ed_00155d3c3bdfrow5_col5\" class=\"data row5 col5\" >-0.000</td>\n",
       "                        <td id=\"T_9fc2a32c_1689_11ed_b6ed_00155d3c3bdfrow5_col6\" class=\"data row5 col6\" >-0.001</td>\n",
       "                        <td id=\"T_9fc2a32c_1689_11ed_b6ed_00155d3c3bdfrow5_col7\" class=\"data row5 col7\" >2.000</td>\n",
       "                        <td id=\"T_9fc2a32c_1689_11ed_b6ed_00155d3c3bdfrow5_col8\" class=\"data row5 col8\" >2.000</td>\n",
       "                        <td id=\"T_9fc2a32c_1689_11ed_b6ed_00155d3c3bdfrow5_col9\" class=\"data row5 col9\" >2.000</td>\n",
       "                        <td id=\"T_9fc2a32c_1689_11ed_b6ed_00155d3c3bdfrow5_col10\" class=\"data row5 col10\" >2.000</td>\n",
       "                        <td id=\"T_9fc2a32c_1689_11ed_b6ed_00155d3c3bdfrow5_col11\" class=\"data row5 col11\" >2.000</td>\n",
       "                        <td id=\"T_9fc2a32c_1689_11ed_b6ed_00155d3c3bdfrow5_col12\" class=\"data row5 col12\" >3.000</td>\n",
       "                        <td id=\"T_9fc2a32c_1689_11ed_b6ed_00155d3c3bdfrow5_col13\" class=\"data row5 col13\" >2.000</td>\n",
       "                        <td id=\"T_9fc2a32c_1689_11ed_b6ed_00155d3c3bdfrow5_col14\" class=\"data row5 col14\" >1.000</td>\n",
       "                        <td id=\"T_9fc2a32c_1689_11ed_b6ed_00155d3c3bdfrow5_col15\" class=\"data row5 col15\" >2.000</td>\n",
       "                        <td id=\"T_9fc2a32c_1689_11ed_b6ed_00155d3c3bdfrow5_col16\" class=\"data row5 col16\" >2.000</td>\n",
       "                        <td id=\"T_9fc2a32c_1689_11ed_b6ed_00155d3c3bdfrow5_col17\" class=\"data row5 col17\" >2.000</td>\n",
       "                        <td id=\"T_9fc2a32c_1689_11ed_b6ed_00155d3c3bdfrow5_col18\" class=\"data row5 col18\" >2.000</td>\n",
       "                        <td id=\"T_9fc2a32c_1689_11ed_b6ed_00155d3c3bdfrow5_col19\" class=\"data row5 col19\" >0.330</td>\n",
       "                        <td id=\"T_9fc2a32c_1689_11ed_b6ed_00155d3c3bdfrow5_col20\" class=\"data row5 col20\" >-0.191</td>\n",
       "                        <td id=\"T_9fc2a32c_1689_11ed_b6ed_00155d3c3bdfrow5_col21\" class=\"data row5 col21\" >-0.153</td>\n",
       "                        <td id=\"T_9fc2a32c_1689_11ed_b6ed_00155d3c3bdfrow5_col22\" class=\"data row5 col22\" >0.031</td>\n",
       "                        <td id=\"T_9fc2a32c_1689_11ed_b6ed_00155d3c3bdfrow5_col23\" class=\"data row5 col23\" >-0.391</td>\n",
       "                        <td id=\"T_9fc2a32c_1689_11ed_b6ed_00155d3c3bdfrow5_col24\" class=\"data row5 col24\" >-0.341</td>\n",
       "                        <td id=\"T_9fc2a32c_1689_11ed_b6ed_00155d3c3bdfrow5_col25\" class=\"data row5 col25\" >0.161</td>\n",
       "                        <td id=\"T_9fc2a32c_1689_11ed_b6ed_00155d3c3bdfrow5_col26\" class=\"data row5 col26\" >0.404</td>\n",
       "                        <td id=\"T_9fc2a32c_1689_11ed_b6ed_00155d3c3bdfrow5_col27\" class=\"data row5 col27\" >-0.520</td>\n",
       "                        <td id=\"T_9fc2a32c_1689_11ed_b6ed_00155d3c3bdfrow5_col28\" class=\"data row5 col28\" >0.000</td>\n",
       "                        <td id=\"T_9fc2a32c_1689_11ed_b6ed_00155d3c3bdfrow5_col29\" class=\"data row5 col29\" >1.000</td>\n",
       "                        <td id=\"T_9fc2a32c_1689_11ed_b6ed_00155d3c3bdfrow5_col30\" class=\"data row5 col30\" >0.000</td>\n",
       "            </tr>\n",
       "            <tr>\n",
       "                        <th id=\"T_9fc2a32c_1689_11ed_b6ed_00155d3c3bdflevel0_row6\" class=\"row_heading level0 row6\" >75%</th>\n",
       "                        <td id=\"T_9fc2a32c_1689_11ed_b6ed_00155d3c3bdfrow6_col0\" class=\"data row6 col0\" >0.674</td>\n",
       "                        <td id=\"T_9fc2a32c_1689_11ed_b6ed_00155d3c3bdfrow6_col1\" class=\"data row6 col1\" >0.675</td>\n",
       "                        <td id=\"T_9fc2a32c_1689_11ed_b6ed_00155d3c3bdfrow6_col2\" class=\"data row6 col2\" >0.678</td>\n",
       "                        <td id=\"T_9fc2a32c_1689_11ed_b6ed_00155d3c3bdfrow6_col3\" class=\"data row6 col3\" >0.673</td>\n",
       "                        <td id=\"T_9fc2a32c_1689_11ed_b6ed_00155d3c3bdfrow6_col4\" class=\"data row6 col4\" >0.674</td>\n",
       "                        <td id=\"T_9fc2a32c_1689_11ed_b6ed_00155d3c3bdfrow6_col5\" class=\"data row6 col5\" >0.675</td>\n",
       "                        <td id=\"T_9fc2a32c_1689_11ed_b6ed_00155d3c3bdfrow6_col6\" class=\"data row6 col6\" >0.675</td>\n",
       "                        <td id=\"T_9fc2a32c_1689_11ed_b6ed_00155d3c3bdfrow6_col7\" class=\"data row6 col7\" >3.000</td>\n",
       "                        <td id=\"T_9fc2a32c_1689_11ed_b6ed_00155d3c3bdfrow6_col8\" class=\"data row6 col8\" >3.000</td>\n",
       "                        <td id=\"T_9fc2a32c_1689_11ed_b6ed_00155d3c3bdfrow6_col9\" class=\"data row6 col9\" >3.000</td>\n",
       "                        <td id=\"T_9fc2a32c_1689_11ed_b6ed_00155d3c3bdfrow6_col10\" class=\"data row6 col10\" >3.000</td>\n",
       "                        <td id=\"T_9fc2a32c_1689_11ed_b6ed_00155d3c3bdfrow6_col11\" class=\"data row6 col11\" >3.000</td>\n",
       "                        <td id=\"T_9fc2a32c_1689_11ed_b6ed_00155d3c3bdfrow6_col12\" class=\"data row6 col12\" >4.000</td>\n",
       "                        <td id=\"T_9fc2a32c_1689_11ed_b6ed_00155d3c3bdfrow6_col13\" class=\"data row6 col13\" >3.000</td>\n",
       "                        <td id=\"T_9fc2a32c_1689_11ed_b6ed_00155d3c3bdfrow6_col14\" class=\"data row6 col14\" >2.000</td>\n",
       "                        <td id=\"T_9fc2a32c_1689_11ed_b6ed_00155d3c3bdfrow6_col15\" class=\"data row6 col15\" >3.000</td>\n",
       "                        <td id=\"T_9fc2a32c_1689_11ed_b6ed_00155d3c3bdfrow6_col16\" class=\"data row6 col16\" >3.000</td>\n",
       "                        <td id=\"T_9fc2a32c_1689_11ed_b6ed_00155d3c3bdfrow6_col17\" class=\"data row6 col17\" >3.000</td>\n",
       "                        <td id=\"T_9fc2a32c_1689_11ed_b6ed_00155d3c3bdfrow6_col18\" class=\"data row6 col18\" >3.000</td>\n",
       "                        <td id=\"T_9fc2a32c_1689_11ed_b6ed_00155d3c3bdfrow6_col19\" class=\"data row6 col19\" >1.881</td>\n",
       "                        <td id=\"T_9fc2a32c_1689_11ed_b6ed_00155d3c3bdfrow6_col20\" class=\"data row6 col20\" >1.445</td>\n",
       "                        <td id=\"T_9fc2a32c_1689_11ed_b6ed_00155d3c3bdfrow6_col21\" class=\"data row6 col21\" >1.507</td>\n",
       "                        <td id=\"T_9fc2a32c_1689_11ed_b6ed_00155d3c3bdfrow6_col22\" class=\"data row6 col22\" >1.662</td>\n",
       "                        <td id=\"T_9fc2a32c_1689_11ed_b6ed_00155d3c3bdfrow6_col23\" class=\"data row6 col23\" >1.255</td>\n",
       "                        <td id=\"T_9fc2a32c_1689_11ed_b6ed_00155d3c3bdfrow6_col24\" class=\"data row6 col24\" >1.267</td>\n",
       "                        <td id=\"T_9fc2a32c_1689_11ed_b6ed_00155d3c3bdfrow6_col25\" class=\"data row6 col25\" >1.796</td>\n",
       "                        <td id=\"T_9fc2a32c_1689_11ed_b6ed_00155d3c3bdfrow6_col26\" class=\"data row6 col26\" >2.028</td>\n",
       "                        <td id=\"T_9fc2a32c_1689_11ed_b6ed_00155d3c3bdfrow6_col27\" class=\"data row6 col27\" >158.987</td>\n",
       "                        <td id=\"T_9fc2a32c_1689_11ed_b6ed_00155d3c3bdfrow6_col28\" class=\"data row6 col28\" >1.000</td>\n",
       "                        <td id=\"T_9fc2a32c_1689_11ed_b6ed_00155d3c3bdfrow6_col29\" class=\"data row6 col29\" >2.000</td>\n",
       "                        <td id=\"T_9fc2a32c_1689_11ed_b6ed_00155d3c3bdfrow6_col30\" class=\"data row6 col30\" >1.000</td>\n",
       "            </tr>\n",
       "            <tr>\n",
       "                        <th id=\"T_9fc2a32c_1689_11ed_b6ed_00155d3c3bdflevel0_row7\" class=\"row_heading level0 row7\" >max</th>\n",
       "                        <td id=\"T_9fc2a32c_1689_11ed_b6ed_00155d3c3bdfrow7_col0\" class=\"data row7 col0\" >4.749</td>\n",
       "                        <td id=\"T_9fc2a32c_1689_11ed_b6ed_00155d3c3bdfrow7_col1\" class=\"data row7 col1\" >4.816</td>\n",
       "                        <td id=\"T_9fc2a32c_1689_11ed_b6ed_00155d3c3bdfrow7_col2\" class=\"data row7 col2\" >4.962</td>\n",
       "                        <td id=\"T_9fc2a32c_1689_11ed_b6ed_00155d3c3bdfrow7_col3\" class=\"data row7 col3\" >4.455</td>\n",
       "                        <td id=\"T_9fc2a32c_1689_11ed_b6ed_00155d3c3bdfrow7_col4\" class=\"data row7 col4\" >4.949</td>\n",
       "                        <td id=\"T_9fc2a32c_1689_11ed_b6ed_00155d3c3bdfrow7_col5\" class=\"data row7 col5\" >4.972</td>\n",
       "                        <td id=\"T_9fc2a32c_1689_11ed_b6ed_00155d3c3bdfrow7_col6\" class=\"data row7 col6\" >4.823</td>\n",
       "                        <td id=\"T_9fc2a32c_1689_11ed_b6ed_00155d3c3bdfrow7_col7\" class=\"data row7 col7\" >15.000</td>\n",
       "                        <td id=\"T_9fc2a32c_1689_11ed_b6ed_00155d3c3bdfrow7_col8\" class=\"data row7 col8\" >16.000</td>\n",
       "                        <td id=\"T_9fc2a32c_1689_11ed_b6ed_00155d3c3bdfrow7_col9\" class=\"data row7 col9\" >14.000</td>\n",
       "                        <td id=\"T_9fc2a32c_1689_11ed_b6ed_00155d3c3bdfrow7_col10\" class=\"data row7 col10\" >14.000</td>\n",
       "                        <td id=\"T_9fc2a32c_1689_11ed_b6ed_00155d3c3bdfrow7_col11\" class=\"data row7 col11\" >13.000</td>\n",
       "                        <td id=\"T_9fc2a32c_1689_11ed_b6ed_00155d3c3bdfrow7_col12\" class=\"data row7 col12\" >16.000</td>\n",
       "                        <td id=\"T_9fc2a32c_1689_11ed_b6ed_00155d3c3bdfrow7_col13\" class=\"data row7 col13\" >12.000</td>\n",
       "                        <td id=\"T_9fc2a32c_1689_11ed_b6ed_00155d3c3bdfrow7_col14\" class=\"data row7 col14\" >14.000</td>\n",
       "                        <td id=\"T_9fc2a32c_1689_11ed_b6ed_00155d3c3bdfrow7_col15\" class=\"data row7 col15\" >14.000</td>\n",
       "                        <td id=\"T_9fc2a32c_1689_11ed_b6ed_00155d3c3bdfrow7_col16\" class=\"data row7 col16\" >15.000</td>\n",
       "                        <td id=\"T_9fc2a32c_1689_11ed_b6ed_00155d3c3bdfrow7_col17\" class=\"data row7 col17\" >14.000</td>\n",
       "                        <td id=\"T_9fc2a32c_1689_11ed_b6ed_00155d3c3bdfrow7_col18\" class=\"data row7 col18\" >13.000</td>\n",
       "                        <td id=\"T_9fc2a32c_1689_11ed_b6ed_00155d3c3bdfrow7_col19\" class=\"data row7 col19\" >12.080</td>\n",
       "                        <td id=\"T_9fc2a32c_1689_11ed_b6ed_00155d3c3bdfrow7_col20\" class=\"data row7 col20\" >11.475</td>\n",
       "                        <td id=\"T_9fc2a32c_1689_11ed_b6ed_00155d3c3bdfrow7_col21\" class=\"data row7 col21\" >14.455</td>\n",
       "                        <td id=\"T_9fc2a32c_1689_11ed_b6ed_00155d3c3bdfrow7_col22\" class=\"data row7 col22\" >11.344</td>\n",
       "                        <td id=\"T_9fc2a32c_1689_11ed_b6ed_00155d3c3bdfrow7_col23\" class=\"data row7 col23\" >12.247</td>\n",
       "                        <td id=\"T_9fc2a32c_1689_11ed_b6ed_00155d3c3bdfrow7_col24\" class=\"data row7 col24\" >12.390</td>\n",
       "                        <td id=\"T_9fc2a32c_1689_11ed_b6ed_00155d3c3bdfrow7_col25\" class=\"data row7 col25\" >12.529</td>\n",
       "                        <td id=\"T_9fc2a32c_1689_11ed_b6ed_00155d3c3bdfrow7_col26\" class=\"data row7 col26\" >12.913</td>\n",
       "                        <td id=\"T_9fc2a32c_1689_11ed_b6ed_00155d3c3bdfrow7_col27\" class=\"data row7 col27\" >1,229.563</td>\n",
       "                        <td id=\"T_9fc2a32c_1689_11ed_b6ed_00155d3c3bdfrow7_col28\" class=\"data row7 col28\" >1.000</td>\n",
       "                        <td id=\"T_9fc2a32c_1689_11ed_b6ed_00155d3c3bdfrow7_col29\" class=\"data row7 col29\" >2.000</td>\n",
       "                        <td id=\"T_9fc2a32c_1689_11ed_b6ed_00155d3c3bdfrow7_col30\" class=\"data row7 col30\" >1.000</td>\n",
       "            </tr>\n",
       "    </tbody></table>"
      ],
      "text/plain": [
       "<pandas.io.formats.style.Styler at 0x1fab20df790>"
      ]
     },
     "execution_count": 5,
     "metadata": {},
     "output_type": "execute_result"
    }
   ],
   "source": [
    "df = train_df.describe()\n",
    "df.style.format('{:,.3f}').background_gradient(subset=(df.index[1:],df.columns[:]), cmap='GnBu')"
   ]
  },
  {
   "cell_type": "code",
   "execution_count": 6,
   "id": "0ac7bc4b",
   "metadata": {
    "ExecuteTime": {
     "end_time": "2022-08-07T19:46:27.177737Z",
     "start_time": "2022-08-07T19:46:27.167069Z"
    }
   },
   "outputs": [
    {
     "name": "stdout",
     "output_type": "stream",
     "text": [
      "0    462161\n",
      "1    437839\n",
      "Name: target, dtype: int64\n",
      "Target variable is evenly distributed in each states\n"
     ]
    }
   ],
   "source": [
    "print(train_df[\"target\"].value_counts())\n",
    "print(\"Target variable is evenly distributed in each states\")"
   ]
  },
  {
   "cell_type": "code",
   "execution_count": 7,
   "id": "16aab8d7",
   "metadata": {
    "ExecuteTime": {
     "end_time": "2022-08-07T19:46:28.629507Z",
     "start_time": "2022-08-07T19:46:28.518377Z"
    }
   },
   "outputs": [
    {
     "name": "stdout",
     "output_type": "stream",
     "text": [
      "31 1\n"
     ]
    }
   ],
   "source": [
    "cont_cols = train_df.select_dtypes(exclude = [\"object\"]).columns\n",
    "cat_cols = train_df.select_dtypes(include = [\"object\"]).columns\n",
    "print(len(cont_cols), len(cat_cols))"
   ]
  },
  {
   "cell_type": "code",
   "execution_count": 9,
   "id": "62c769c0",
   "metadata": {
    "ExecuteTime": {
     "end_time": "2022-08-07T19:46:34.123268Z",
     "start_time": "2022-08-07T19:46:32.630530Z"
    }
   },
   "outputs": [],
   "source": [
    "corr=train_df.corr().round(2) \n",
    "corr=pd.DataFrame(corr.iloc[:-1,-1].sort_values(ascending=False))\n",
    "corr.reset_index(inplace = True)\n",
    "corr.sort_values(\"index\", inplace = True)"
   ]
  },
  {
   "cell_type": "code",
   "execution_count": 10,
   "id": "c0a8aa5e",
   "metadata": {
    "ExecuteTime": {
     "end_time": "2022-08-07T19:46:35.354351Z",
     "start_time": "2022-08-07T19:46:34.772619Z"
    }
   },
   "outputs": [
    {
     "data": {
      "text/plain": [
       "<AxesSubplot:xlabel='Features', ylabel='Correlation Value'>"
      ]
     },
     "execution_count": 10,
     "metadata": {},
     "output_type": "execute_result"
    },
    {
     "data": {
      "image/png": "[encoded data removed]",
      "text/plain": [
       "<Figure size 7200x1440 with 1 Axes>"
      ]
     },
     "metadata": {
      "needs_background": "light"
     },
     "output_type": "display_data"
    }
   ],
   "source": [
    "corr.plot(kind = \"bar\", figsize = (100, 20), colormap = \"RdYlBu\", xlabel = \"Features\", ylabel = \"Correlation Value\",  fontsize = 40, x = \"index\", y = \"target\")"
   ]
  },
  {
   "cell_type": "code",
   "execution_count": 50,
   "id": "f78c1f31",
   "metadata": {
    "ExecuteTime": {
     "end_time": "2022-08-07T20:05:25.231743Z",
     "start_time": "2022-08-07T20:05:25.213684Z"
    }
   },
   "outputs": [
    {
     "data": {
      "text/plain": [
       "-0.036500000000000005"
      ]
     },
     "execution_count": 50,
     "metadata": {},
     "output_type": "execute_result"
    }
   ],
   "source": [
    "np.quantile(corr[\"target\"], .15)"
   ]
  },
  {
   "cell_type": "code",
   "execution_count": 40,
   "id": "ea52c615",
   "metadata": {
    "ExecuteTime": {
     "end_time": "2022-08-07T20:02:13.233421Z",
     "start_time": "2022-08-07T20:02:13.217562Z"
    }
   },
   "outputs": [
    {
     "data": {
      "text/plain": [
       "['f_03', 'f_04', 'f_06', 'f_12', 'f_17']"
      ]
     },
     "execution_count": 40,
     "metadata": {},
     "output_type": "execute_result"
    }
   ],
   "source": [
    "zero_corr = list(corr[corr[\"target\"] == 0][\"index\"])\n",
    "zero_corr"
   ]
  },
  {
   "cell_type": "code",
   "execution_count": 11,
   "id": "f5f3a4b8",
   "metadata": {
    "ExecuteTime": {
     "end_time": "2022-08-07T19:46:37.625038Z",
     "start_time": "2022-08-07T19:46:37.612556Z"
    }
   },
   "outputs": [],
   "source": [
    "# # creating mask\n",
    "# mask = np.triu(np.ones_like(train_df.corr()))\n",
    "\n",
    "# plt.figure(figsize = (50,30))\n",
    "\n",
    "# # plotting a triangle correlation heatmap\n",
    "# dataplot = sns.heatmap(train_df.corr(), cmap=\"YlGnBu\", annot=True, mask=mask)\n",
    " \n",
    "# # displaying heatmap\n",
    "# plt.show()\n",
    "# # dataplot.plot(figsize = (50, 50))"
   ]
  },
  {
   "cell_type": "code",
   "execution_count": 12,
   "id": "6de5ec0b",
   "metadata": {
    "ExecuteTime": {
     "end_time": "2022-08-07T19:46:38.210828Z",
     "start_time": "2022-08-07T19:46:38.196694Z"
    }
   },
   "outputs": [
    {
     "data": {
      "text/plain": [
       "Index(['f_00', 'f_01', 'f_02', 'f_03', 'f_04', 'f_05', 'f_06', 'f_07', 'f_08', 'f_09', 'f_10', 'f_11', 'f_12', 'f_13', 'f_14', 'f_15', 'f_16', 'f_17', 'f_18', 'f_19', 'f_20', 'f_21', 'f_22', 'f_23', 'f_24', 'f_25', 'f_26', 'f_27', 'f_28', 'f_29', 'f_30', 'target'], dtype='object')"
      ]
     },
     "execution_count": 12,
     "metadata": {},
     "output_type": "execute_result"
    }
   ],
   "source": [
    "train_df.columns"
   ]
  },
  {
   "cell_type": "code",
   "execution_count": 13,
   "id": "572e4b21",
   "metadata": {
    "ExecuteTime": {
     "end_time": "2022-08-07T19:46:40.243738Z",
     "start_time": "2022-08-07T19:46:38.748095Z"
    }
   },
   "outputs": [],
   "source": [
    "au_corr = pd.DataFrame(train_df.corr().abs())"
   ]
  },
  {
   "cell_type": "code",
   "execution_count": 14,
   "id": "cd22469e",
   "metadata": {
    "ExecuteTime": {
     "end_time": "2022-08-07T19:46:42.326679Z",
     "start_time": "2022-08-07T19:46:40.827907Z"
    }
   },
   "outputs": [],
   "source": [
    "au_corr = pd.DataFrame(train_df.corr().abs().unstack())\n",
    "pairs_to_drop = set()\n",
    "cols = list(train_df.columns)\n",
    "cols.remove(\"f_27\")\n",
    "for i in range(0, train_df.shape[1]-1):\n",
    "    for j in range(0, i+1):\n",
    "        pairs_to_drop.add((cols[i], cols[j]))\n",
    "au_corr = au_corr.drop(labels = pairs_to_drop).sort_values(by = 0, ascending = False)\n",
    "au_corr.reset_index(inplace = True)\n"
   ]
  },
  {
   "cell_type": "code",
   "execution_count": 15,
   "id": "318be38f",
   "metadata": {
    "ExecuteTime": {
     "end_time": "2022-08-07T19:46:46.851869Z",
     "start_time": "2022-08-07T19:46:46.637646Z"
    }
   },
   "outputs": [
    {
     "name": "stdout",
     "output_type": "stream",
     "text": [
      "741,354\n",
      "900,000\n"
     ]
    },
    {
     "data": {
      "text/plain": [
       "(None, None)"
      ]
     },
     "execution_count": 15,
     "metadata": {},
     "output_type": "execute_result"
    }
   ],
   "source": [
    "print(f'{train_df[\"f_27\"].nunique():,d}'), print(f'{train_df.shape[0]:,d}')"
   ]
  },
  {
   "cell_type": "code",
   "execution_count": 16,
   "id": "36237c5d",
   "metadata": {
    "ExecuteTime": {
     "end_time": "2022-08-07T19:46:59.622802Z",
     "start_time": "2022-08-07T19:46:47.371602Z"
    }
   },
   "outputs": [],
   "source": [
    "enc = OrdinalEncoder()\n",
    "def feature_eng(df):\n",
    "    df=df.copy()\n",
    "    df['char_unique'] = df['f_27'].apply(lambda x: len(set(x)))\n",
    "    for i in range(df.f_27.str.len().max()):\n",
    "        df['f_27_char{}'.format(i+1)]=enc.fit_transform(df['f_27'].str.get(i).values.reshape(-1,1))\n",
    "    return df.drop(['f_27'],axis=1)\n",
    "\n",
    "train=feature_eng(df=train_df)\n",
    "test=feature_eng(df=test_df)"
   ]
  },
  {
   "cell_type": "code",
   "execution_count": 17,
   "id": "a598860f",
   "metadata": {
    "ExecuteTime": {
     "end_time": "2022-08-07T19:46:59.638139Z",
     "start_time": "2022-08-07T19:46:59.622802Z"
    }
   },
   "outputs": [],
   "source": [
    "# a = enc.fit_transform(train_df['f_27'].str.get(7).values.reshape(-1,1))\n",
    "# a\n",
    "# enc.inverse_transform(a)"
   ]
  },
  {
   "cell_type": "code",
   "execution_count": 18,
   "id": "0a398218",
   "metadata": {
    "ExecuteTime": {
     "end_time": "2022-08-07T19:47:10.023604Z",
     "start_time": "2022-08-07T19:47:09.923936Z"
    }
   },
   "outputs": [],
   "source": [
    "Y = train['target']\n",
    "X = train.drop(['target'], axis=1)"
   ]
  },
  {
   "cell_type": "code",
   "execution_count": 25,
   "id": "159e3223",
   "metadata": {
    "ExecuteTime": {
     "end_time": "2022-08-06T19:24:41.245816Z",
     "start_time": "2022-08-06T19:04:19.789977Z"
    }
   },
   "outputs": [
    {
     "name": "stderr",
     "output_type": "stream",
     "text": [
      "[Parallel(n_jobs=-1)]: Using backend LokyBackend with 12 concurrent workers.\n",
      "[Parallel(n_jobs=-1)]: Done   3 out of   3 | elapsed:   46.8s finished\n"
     ]
    },
    {
     "name": "stdout",
     "output_type": "stream",
     "text": [
      "Decison Tree: 0.764814 (0.001590)\n"
     ]
    },
    {
     "name": "stderr",
     "output_type": "stream",
     "text": [
      "[Parallel(n_jobs=-1)]: Using backend LokyBackend with 12 concurrent workers.\n",
      "[Parallel(n_jobs=-1)]: Done   3 out of   3 | elapsed:  6.8min finished\n"
     ]
    },
    {
     "name": "stdout",
     "output_type": "stream",
     "text": [
      "Random Forest: 0.873954 (0.000973)\n"
     ]
    },
    {
     "name": "stderr",
     "output_type": "stream",
     "text": [
      "[Parallel(n_jobs=-1)]: Using backend LokyBackend with 12 concurrent workers.\n",
      "[Parallel(n_jobs=-1)]: Done   3 out of   3 | elapsed:  9.9min finished\n"
     ]
    },
    {
     "name": "stdout",
     "output_type": "stream",
     "text": [
      "Gradient Boosting: 0.825801 (0.001585)\n"
     ]
    },
    {
     "name": "stderr",
     "output_type": "stream",
     "text": [
      "[Parallel(n_jobs=-1)]: Using backend LokyBackend with 12 concurrent workers.\n",
      "[Parallel(n_jobs=-1)]: Done   3 out of   3 | elapsed:  2.4min finished\n"
     ]
    },
    {
     "name": "stdout",
     "output_type": "stream",
     "text": [
      "XGBoost Classifier: 0.917519 (0.001022)\n"
     ]
    },
    {
     "name": "stderr",
     "output_type": "stream",
     "text": [
      "[Parallel(n_jobs=-1)]: Using backend LokyBackend with 12 concurrent workers.\n",
      "[Parallel(n_jobs=-1)]: Done   3 out of   3 | elapsed:   22.9s finished\n"
     ]
    },
    {
     "name": "stdout",
     "output_type": "stream",
     "text": [
      "LightGBM: 0.889041 (0.000768)\n"
     ]
    }
   ],
   "source": [
    "# classifier_state_of_art = [('Random Forest', RandomForestClassifier()),\n",
    "# #                    ('Gradient Boosting',GradientBoostingClassifier()),\n",
    "#                    ('XGBoost Classifier', XGBClassifier(eval_metric='logloss')),                           \n",
    "#                    (\"LightGBM\", LGBMClassifier())]\n",
    "\n",
    "classifier_state_of_art = [\n",
    "                   (\"Decison Tree\", DecisionTreeClassifier()),\n",
    "                   (\"Random Forest\", RandomForestClassifier()),\n",
    "                   ('Gradient Boosting',GradientBoostingClassifier()),\n",
    "                   ('XGBoost Classifier', XGBClassifier(eval_metric='logloss')),                           \n",
    "                   (\"LightGBM\", LGBMClassifier())]\n",
    "\n",
    "kfold = KFold(n_splits=3, random_state=42, shuffle=True)\n",
    "\n",
    "score_ls = []\n",
    "for cl_name, Classifier in classifier_state_of_art:\n",
    "    cv_results = cross_val_score(Classifier, X ,Y, cv=kfold, scoring=\"accuracy\", n_jobs = -1, verbose = 2)\n",
    "    scores = \"%s: %f (%f)\" % (cl_name, cv_results.mean(), cv_results.std())\n",
    "    print(scores)"
   ]
  },
  {
   "cell_type": "code",
   "execution_count": 30,
   "id": "b5014f52",
   "metadata": {
    "ExecuteTime": {
     "end_time": "2022-08-06T19:49:45.602527Z",
     "start_time": "2022-08-06T19:47:01.923945Z"
    }
   },
   "outputs": [
    {
     "name": "stderr",
     "output_type": "stream",
     "text": [
      "[Parallel(n_jobs=-1)]: Using backend LokyBackend with 12 concurrent workers.\n",
      "[Parallel(n_jobs=-1)]: Done   3 out of   3 | elapsed:  2.7min finished\n"
     ]
    },
    {
     "data": {
      "text/plain": [
       "0.9175188888888889"
      ]
     },
     "execution_count": 30,
     "metadata": {},
     "output_type": "execute_result"
    }
   ],
   "source": [
    "kfold = KFold(n_splits=3, random_state=42, shuffle=True)\n",
    "clf = XGBClassifier(eval_metric='logloss')\n",
    "cross_val_score(clf, X, Y, cv=kfold, scoring=\"accuracy\", n_jobs = -1, verbose = 2).mean()"
   ]
  },
  {
   "cell_type": "code",
   "execution_count": 21,
   "id": "ed8d6b33",
   "metadata": {
    "ExecuteTime": {
     "end_time": "2022-08-06T20:25:14.376164Z",
     "start_time": "2022-08-06T20:13:28.540910Z"
    }
   },
   "outputs": [
    {
     "name": "stderr",
     "output_type": "stream",
     "text": [
      "\u001b[32m[I 2022-08-07 01:43:28,544]\u001b[0m A new study created in memory with name: no-name-0f1dc334-986b-4524-b809-f0fba840cf8c\u001b[0m\n",
      "C:\\Users\\91903\\anaconda3\\envs\\kali\\lib\\site-packages\\optuna\\study\\study.py:393: FutureWarning: `n_jobs` argument has been deprecated in v2.7.0. This feature will be removed in v4.0.0. See https://github.com/optuna/optuna/releases/tag/v2.7.0.\n",
      "  warnings.warn(\n",
      "[Parallel(n_jobs=-1)]: Using backend LokyBackend with 12 concurrent workers.\n",
      "[Parallel(n_jobs=-1)]: Using backend LokyBackend with 12 concurrent workers.\n",
      "[Parallel(n_jobs=-1)]: Using backend LokyBackend with 12 concurrent workers.\n",
      "[Parallel(n_jobs=-1)]: Done   3 out of   3 | elapsed:  6.7min finished\n",
      "\u001b[32m[I 2022-08-07 01:50:12,226]\u001b[0m Trial 2 finished with value: 0.9226311111111111 and parameters: {'n_estimators': 180, 'learning_rate': 0.36804370634750927, 'max_depth': 15.0, 'subsample': 0.1602744791700611}. Best is trial 2 with value: 0.9226311111111111.\u001b[0m\n",
      "[Parallel(n_jobs=-1)]: Done   3 out of   3 | elapsed: 10.7min finished\n",
      "\u001b[32m[I 2022-08-07 01:54:09,766]\u001b[0m Trial 1 finished with value: 0.9239111111111112 and parameters: {'n_estimators': 388, 'learning_rate': 0.2619378458527501, 'max_depth': 12.0, 'subsample': 0.1174858648754691}. Best is trial 1 with value: 0.9239111111111112.\u001b[0m\n",
      "[Parallel(n_jobs=-1)]: Done   3 out of   3 | elapsed: 11.8min finished\n",
      "\u001b[32m[I 2022-08-07 01:55:14,329]\u001b[0m Trial 0 finished with value: 0.9233844444444445 and parameters: {'n_estimators': 493, 'learning_rate': 0.43464393604667095, 'max_depth': 12.0, 'subsample': 0.21675338561409857}. Best is trial 1 with value: 0.9239111111111112.\u001b[0m\n"
     ]
    }
   ],
   "source": [
    "# Optuna Tuning\n",
    "def objective_xgb(trial):\n",
    "    \n",
    "    kfold = KFold(n_splits=3, random_state=42, shuffle=True)\n",
    "\n",
    "    n_estimators = trial.suggest_int('n_estimators', 100,500)\n",
    "    learning_rate = trial.suggest_uniform('learning_rate', 0.01, 0.5)\n",
    "    max_depth = trial.suggest_int('max_depth', 4, 32)\n",
    "    subsample = trial.suggest_uniform('subsample', 0.01, 0.5)\n",
    "    \n",
    "#     clf = XGBClassifier(n_estimators = n_estimators, learning_rate = learning_rate, max_depth = max_depth, , eval_metric='logloss', use_label_encoder  = False)\n",
    "    clf = XGBClassifier(n_estimators = n_estimators, learning_rate = learning_rate, subsample = subsample, eval_metric='logloss', use_label_encoder  = False)\n",
    "    \n",
    "    return cross_val_score(clf, X, Y, cv=kfold, scoring=\"accuracy\", n_jobs = -1, verbose = 2).mean()\n",
    "\n",
    "\n",
    "study = optuna.create_study(direction='maximize')\n",
    "study.optimize(objective_xgb, n_trials=3, show_progress_bar = False, n_jobs = -1)"
   ]
  },
  {
   "cell_type": "code",
   "execution_count": 22,
   "id": "86910c68",
   "metadata": {
    "ExecuteTime": {
     "end_time": "2022-08-06T20:34:04.221324Z",
     "start_time": "2022-08-06T20:34:04.178035Z"
    }
   },
   "outputs": [
    {
     "name": "stdout",
     "output_type": "stream",
     "text": [
      "F1_Score: 0.9239111111111112\n",
      "Best hyperparameters: {'n_estimators': 388, 'learning_rate': 0.2619378458527501, 'max_depth': 12.0, 'subsample': 0.1174858648754691}\n"
     ]
    }
   ],
   "source": [
    "trial = study.best_trial\n",
    "print('F1_Score: {}'.format(trial.value))\n",
    "print(\"Best hyperparameters: {}\".format(trial.params))"
   ]
  },
  {
   "cell_type": "code",
   "execution_count": 24,
   "id": "ca9f8e12",
   "metadata": {
    "ExecuteTime": {
     "end_time": "2022-08-06T21:19:08.155401Z",
     "start_time": "2022-08-06T20:35:45.563464Z"
    }
   },
   "outputs": [
    {
     "name": "stderr",
     "output_type": "stream",
     "text": [
      "\u001b[32m[I 2022-08-07 02:05:45,567]\u001b[0m A new study created in memory with name: no-name-61fa3a45-3f3c-4976-a365-bb456528c932\u001b[0m\n",
      "C:\\Users\\91903\\anaconda3\\envs\\kali\\lib\\site-packages\\optuna\\study\\study.py:393: FutureWarning: `n_jobs` argument has been deprecated in v2.7.0. This feature will be removed in v4.0.0. See https://github.com/optuna/optuna/releases/tag/v2.7.0.\n",
      "  warnings.warn(\n",
      "[Parallel(n_jobs=-1)]: Using backend LokyBackend with 12 concurrent workers.\n",
      "[Parallel(n_jobs=-1)]: Using backend LokyBackend with 12 concurrent workers.\n",
      "[Parallel(n_jobs=-1)]: Using backend LokyBackend with 12 concurrent workers.\n",
      "[Parallel(n_jobs=-1)]: Using backend LokyBackend with 12 concurrent workers.\n",
      "[Parallel(n_jobs=-1)]: Using backend LokyBackend with 12 concurrent workers.\n",
      "[Parallel(n_jobs=-1)]: Using backend LokyBackend with 12 concurrent workers.\n",
      "[Parallel(n_jobs=-1)]: Using backend LokyBackend with 12 concurrent workers.\n",
      "[Parallel(n_jobs=-1)]: Using backend LokyBackend with 12 concurrent workers.\n",
      "[Parallel(n_jobs=-1)]: Using backend LokyBackend with 12 concurrent workers.\n",
      "[Parallel(n_jobs=-1)]: Using backend LokyBackend with 12 concurrent workers.\n",
      "[Parallel(n_jobs=-1)]: Done   3 out of   3 | elapsed: 14.6min finished\n",
      "\u001b[32m[I 2022-08-07 02:20:22,787]\u001b[0m Trial 1 finished with value: 0.8121648777950733 and parameters: {'n_estimators': 197, 'max_depth': 10.0, 'criterion': 'entropy', 'max_features': 'log2'}. Best is trial 1 with value: 0.8121648777950733.\u001b[0m\n",
      "[Parallel(n_jobs=-1)]: Done   3 out of   3 | elapsed: 37.6min finished\n",
      "\u001b[32m[I 2022-08-07 02:43:21,773]\u001b[0m Trial 9 finished with value: 0.8132270848519069 and parameters: {'n_estimators': 384, 'max_depth': 10.0, 'criterion': 'gini', 'max_features': 'log2'}. Best is trial 9 with value: 0.8132270848519069.\u001b[0m\n",
      "[Parallel(n_jobs=-1)]: Done   3 out of   3 | elapsed: 38.3min finished\n",
      "\u001b[32m[I 2022-08-07 02:44:02,884]\u001b[0m Trial 2 finished with value: 0.859870805475107 and parameters: {'n_estimators': 157, 'max_depth': 19.0, 'criterion': 'entropy', 'max_features': 'sqrt'}. Best is trial 2 with value: 0.859870805475107.\u001b[0m\n",
      "[Parallel(n_jobs=-1)]: Done   3 out of   3 | elapsed: 39.6min finished\n",
      "\u001b[32m[I 2022-08-07 02:45:22,199]\u001b[0m Trial 6 finished with value: 0.8683109548909128 and parameters: {'n_estimators': 124, 'max_depth': 30.0, 'criterion': 'entropy', 'max_features': 'sqrt'}. Best is trial 6 with value: 0.8683109548909128.\u001b[0m\n",
      "[Parallel(n_jobs=-1)]: Done   3 out of   3 | elapsed: 40.4min finished\n",
      "\u001b[32m[I 2022-08-07 02:46:12,770]\u001b[0m Trial 5 finished with value: 0.8023928733343073 and parameters: {'n_estimators': 214, 'max_depth': 9.0, 'criterion': 'entropy', 'max_features': 'auto'}. Best is trial 6 with value: 0.8683109548909128.\u001b[0m\n",
      "[Parallel(n_jobs=-1)]: Done   3 out of   3 | elapsed: 43.3min finished\n",
      "\u001b[32m[I 2022-08-07 02:49:07,529]\u001b[0m Trial 8 finished with value: 0.874064889242305 and parameters: {'n_estimators': 355, 'max_depth': 28.0, 'criterion': 'gini', 'max_features': 'sqrt'}. Best is trial 8 with value: 0.874064889242305.\u001b[0m\n"
     ]
    },
    {
     "ename": "KeyboardInterrupt",
     "evalue": "",
     "output_type": "error",
     "traceback": [
      "\u001b[1;31m---------------------------------------------------------------------------\u001b[0m",
      "\u001b[1;31mKeyboardInterrupt\u001b[0m                         Traceback (most recent call last)",
      "Input \u001b[1;32mIn [24]\u001b[0m, in \u001b[0;36m<cell line: 16>\u001b[1;34m()\u001b[0m\n\u001b[0;32m     12\u001b[0m     \u001b[38;5;28;01mreturn\u001b[39;00m cross_val_score(clf, X, Y, cv\u001b[38;5;241m=\u001b[39mkfold, scoring\u001b[38;5;241m=\u001b[39m\u001b[38;5;124m\"\u001b[39m\u001b[38;5;124mf1\u001b[39m\u001b[38;5;124m\"\u001b[39m, n_jobs \u001b[38;5;241m=\u001b[39m \u001b[38;5;241m-\u001b[39m\u001b[38;5;241m1\u001b[39m, verbose \u001b[38;5;241m=\u001b[39m \u001b[38;5;241m2\u001b[39m)\u001b[38;5;241m.\u001b[39mmean()\n\u001b[0;32m     15\u001b[0m study_rf \u001b[38;5;241m=\u001b[39m optuna\u001b[38;5;241m.\u001b[39mcreate_study(direction\u001b[38;5;241m=\u001b[39m\u001b[38;5;124m'\u001b[39m\u001b[38;5;124mmaximize\u001b[39m\u001b[38;5;124m'\u001b[39m)\n\u001b[1;32m---> 16\u001b[0m \u001b[43mstudy_rf\u001b[49m\u001b[38;5;241;43m.\u001b[39;49m\u001b[43moptimize\u001b[49m\u001b[43m(\u001b[49m\u001b[43mobjective_rf\u001b[49m\u001b[43m,\u001b[49m\u001b[43m \u001b[49m\u001b[43mn_trials\u001b[49m\u001b[38;5;241;43m=\u001b[39;49m\u001b[38;5;241;43m10\u001b[39;49m\u001b[43m,\u001b[49m\u001b[43m \u001b[49m\u001b[43mshow_progress_bar\u001b[49m\u001b[43m \u001b[49m\u001b[38;5;241;43m=\u001b[39;49m\u001b[43m \u001b[49m\u001b[38;5;28;43;01mFalse\u001b[39;49;00m\u001b[43m,\u001b[49m\u001b[43m \u001b[49m\u001b[43mn_jobs\u001b[49m\u001b[43m \u001b[49m\u001b[38;5;241;43m=\u001b[39;49m\u001b[43m \u001b[49m\u001b[38;5;241;43m-\u001b[39;49m\u001b[38;5;241;43m1\u001b[39;49m\u001b[43m)\u001b[49m\n",
      "File \u001b[1;32m~\\anaconda3\\envs\\kali\\lib\\site-packages\\optuna\\study\\study.py:400\u001b[0m, in \u001b[0;36mStudy.optimize\u001b[1;34m(self, func, n_trials, timeout, n_jobs, catch, callbacks, gc_after_trial, show_progress_bar)\u001b[0m\n\u001b[0;32m    392\u001b[0m \u001b[38;5;28;01mif\u001b[39;00m n_jobs \u001b[38;5;241m!=\u001b[39m \u001b[38;5;241m1\u001b[39m:\n\u001b[0;32m    393\u001b[0m     warnings\u001b[38;5;241m.\u001b[39mwarn(\n\u001b[0;32m    394\u001b[0m         \u001b[38;5;124m\"\u001b[39m\u001b[38;5;124m`n_jobs` argument has been deprecated in v2.7.0. \u001b[39m\u001b[38;5;124m\"\u001b[39m\n\u001b[0;32m    395\u001b[0m         \u001b[38;5;124m\"\u001b[39m\u001b[38;5;124mThis feature will be removed in v4.0.0. \u001b[39m\u001b[38;5;124m\"\u001b[39m\n\u001b[0;32m    396\u001b[0m         \u001b[38;5;124m\"\u001b[39m\u001b[38;5;124mSee https://github.com/optuna/optuna/releases/tag/v2.7.0.\u001b[39m\u001b[38;5;124m\"\u001b[39m,\n\u001b[0;32m    397\u001b[0m         \u001b[38;5;167;01mFutureWarning\u001b[39;00m,\n\u001b[0;32m    398\u001b[0m     )\n\u001b[1;32m--> 400\u001b[0m \u001b[43m_optimize\u001b[49m\u001b[43m(\u001b[49m\n\u001b[0;32m    401\u001b[0m \u001b[43m    \u001b[49m\u001b[43mstudy\u001b[49m\u001b[38;5;241;43m=\u001b[39;49m\u001b[38;5;28;43mself\u001b[39;49m\u001b[43m,\u001b[49m\n\u001b[0;32m    402\u001b[0m \u001b[43m    \u001b[49m\u001b[43mfunc\u001b[49m\u001b[38;5;241;43m=\u001b[39;49m\u001b[43mfunc\u001b[49m\u001b[43m,\u001b[49m\n\u001b[0;32m    403\u001b[0m \u001b[43m    \u001b[49m\u001b[43mn_trials\u001b[49m\u001b[38;5;241;43m=\u001b[39;49m\u001b[43mn_trials\u001b[49m\u001b[43m,\u001b[49m\n\u001b[0;32m    404\u001b[0m \u001b[43m    \u001b[49m\u001b[43mtimeout\u001b[49m\u001b[38;5;241;43m=\u001b[39;49m\u001b[43mtimeout\u001b[49m\u001b[43m,\u001b[49m\n\u001b[0;32m    405\u001b[0m \u001b[43m    \u001b[49m\u001b[43mn_jobs\u001b[49m\u001b[38;5;241;43m=\u001b[39;49m\u001b[43mn_jobs\u001b[49m\u001b[43m,\u001b[49m\n\u001b[0;32m    406\u001b[0m \u001b[43m    \u001b[49m\u001b[43mcatch\u001b[49m\u001b[38;5;241;43m=\u001b[39;49m\u001b[43mcatch\u001b[49m\u001b[43m,\u001b[49m\n\u001b[0;32m    407\u001b[0m \u001b[43m    \u001b[49m\u001b[43mcallbacks\u001b[49m\u001b[38;5;241;43m=\u001b[39;49m\u001b[43mcallbacks\u001b[49m\u001b[43m,\u001b[49m\n\u001b[0;32m    408\u001b[0m \u001b[43m    \u001b[49m\u001b[43mgc_after_trial\u001b[49m\u001b[38;5;241;43m=\u001b[39;49m\u001b[43mgc_after_trial\u001b[49m\u001b[43m,\u001b[49m\n\u001b[0;32m    409\u001b[0m \u001b[43m    \u001b[49m\u001b[43mshow_progress_bar\u001b[49m\u001b[38;5;241;43m=\u001b[39;49m\u001b[43mshow_progress_bar\u001b[49m\u001b[43m,\u001b[49m\n\u001b[0;32m    410\u001b[0m \u001b[43m\u001b[49m\u001b[43m)\u001b[49m\n",
      "File \u001b[1;32m~\\anaconda3\\envs\\kali\\lib\\site-packages\\optuna\\study\\_optimize.py:108\u001b[0m, in \u001b[0;36m_optimize\u001b[1;34m(study, func, n_trials, timeout, n_jobs, catch, callbacks, gc_after_trial, show_progress_bar)\u001b[0m\n\u001b[0;32m    105\u001b[0m                     \u001b[38;5;28;01mfor\u001b[39;00m f \u001b[38;5;129;01min\u001b[39;00m completed:\n\u001b[0;32m    106\u001b[0m                         f\u001b[38;5;241m.\u001b[39mresult()\n\u001b[1;32m--> 108\u001b[0m                 futures\u001b[38;5;241m.\u001b[39madd(\n\u001b[0;32m    109\u001b[0m                     executor\u001b[38;5;241m.\u001b[39msubmit(\n\u001b[0;32m    110\u001b[0m                         _optimize_sequential,\n\u001b[0;32m    111\u001b[0m                         study,\n\u001b[0;32m    112\u001b[0m                         func,\n\u001b[0;32m    113\u001b[0m                         \u001b[38;5;241m1\u001b[39m,\n\u001b[0;32m    114\u001b[0m                         timeout,\n\u001b[0;32m    115\u001b[0m                         catch,\n\u001b[0;32m    116\u001b[0m                         callbacks,\n\u001b[0;32m    117\u001b[0m                         gc_after_trial,\n\u001b[0;32m    118\u001b[0m                         \u001b[38;5;28;01mTrue\u001b[39;00m,\n\u001b[0;32m    119\u001b[0m                         time_start,\n\u001b[0;32m    120\u001b[0m                         \u001b[38;5;28;01mNone\u001b[39;00m,\n\u001b[0;32m    121\u001b[0m                     )\n\u001b[0;32m    122\u001b[0m                 )\n\u001b[0;32m    123\u001b[0m \u001b[38;5;28;01mfinally\u001b[39;00m:\n\u001b[0;32m    124\u001b[0m     study\u001b[38;5;241m.\u001b[39m_optimize_lock\u001b[38;5;241m.\u001b[39mrelease()\n",
      "File \u001b[1;32m~\\anaconda3\\envs\\kali\\lib\\concurrent\\futures\\_base.py:644\u001b[0m, in \u001b[0;36mExecutor.__exit__\u001b[1;34m(self, exc_type, exc_val, exc_tb)\u001b[0m\n\u001b[0;32m    643\u001b[0m \u001b[38;5;28;01mdef\u001b[39;00m \u001b[38;5;21m__exit__\u001b[39m(\u001b[38;5;28mself\u001b[39m, exc_type, exc_val, exc_tb):\n\u001b[1;32m--> 644\u001b[0m     \u001b[38;5;28;43mself\u001b[39;49m\u001b[38;5;241;43m.\u001b[39;49m\u001b[43mshutdown\u001b[49m\u001b[43m(\u001b[49m\u001b[43mwait\u001b[49m\u001b[38;5;241;43m=\u001b[39;49m\u001b[38;5;28;43;01mTrue\u001b[39;49;00m\u001b[43m)\u001b[49m\n\u001b[0;32m    645\u001b[0m     \u001b[38;5;28;01mreturn\u001b[39;00m \u001b[38;5;28;01mFalse\u001b[39;00m\n",
      "File \u001b[1;32m~\\anaconda3\\envs\\kali\\lib\\concurrent\\futures\\thread.py:236\u001b[0m, in \u001b[0;36mThreadPoolExecutor.shutdown\u001b[1;34m(self, wait)\u001b[0m\n\u001b[0;32m    234\u001b[0m \u001b[38;5;28;01mif\u001b[39;00m wait:\n\u001b[0;32m    235\u001b[0m     \u001b[38;5;28;01mfor\u001b[39;00m t \u001b[38;5;129;01min\u001b[39;00m \u001b[38;5;28mself\u001b[39m\u001b[38;5;241m.\u001b[39m_threads:\n\u001b[1;32m--> 236\u001b[0m         \u001b[43mt\u001b[49m\u001b[38;5;241;43m.\u001b[39;49m\u001b[43mjoin\u001b[49m\u001b[43m(\u001b[49m\u001b[43m)\u001b[49m\n",
      "File \u001b[1;32m~\\anaconda3\\envs\\kali\\lib\\threading.py:1011\u001b[0m, in \u001b[0;36mThread.join\u001b[1;34m(self, timeout)\u001b[0m\n\u001b[0;32m   1008\u001b[0m     \u001b[38;5;28;01mraise\u001b[39;00m \u001b[38;5;167;01mRuntimeError\u001b[39;00m(\u001b[38;5;124m\"\u001b[39m\u001b[38;5;124mcannot join current thread\u001b[39m\u001b[38;5;124m\"\u001b[39m)\n\u001b[0;32m   1010\u001b[0m \u001b[38;5;28;01mif\u001b[39;00m timeout \u001b[38;5;129;01mis\u001b[39;00m \u001b[38;5;28;01mNone\u001b[39;00m:\n\u001b[1;32m-> 1011\u001b[0m     \u001b[38;5;28;43mself\u001b[39;49m\u001b[38;5;241;43m.\u001b[39;49m\u001b[43m_wait_for_tstate_lock\u001b[49m\u001b[43m(\u001b[49m\u001b[43m)\u001b[49m\n\u001b[0;32m   1012\u001b[0m \u001b[38;5;28;01melse\u001b[39;00m:\n\u001b[0;32m   1013\u001b[0m     \u001b[38;5;66;03m# the behavior of a negative timeout isn't documented, but\u001b[39;00m\n\u001b[0;32m   1014\u001b[0m     \u001b[38;5;66;03m# historically .join(timeout=x) for x<0 has acted as if timeout=0\u001b[39;00m\n\u001b[0;32m   1015\u001b[0m     \u001b[38;5;28mself\u001b[39m\u001b[38;5;241m.\u001b[39m_wait_for_tstate_lock(timeout\u001b[38;5;241m=\u001b[39m\u001b[38;5;28mmax\u001b[39m(timeout, \u001b[38;5;241m0\u001b[39m))\n",
      "File \u001b[1;32m~\\anaconda3\\envs\\kali\\lib\\threading.py:1027\u001b[0m, in \u001b[0;36mThread._wait_for_tstate_lock\u001b[1;34m(self, block, timeout)\u001b[0m\n\u001b[0;32m   1025\u001b[0m \u001b[38;5;28;01mif\u001b[39;00m lock \u001b[38;5;129;01mis\u001b[39;00m \u001b[38;5;28;01mNone\u001b[39;00m:  \u001b[38;5;66;03m# already determined that the C code is done\u001b[39;00m\n\u001b[0;32m   1026\u001b[0m     \u001b[38;5;28;01massert\u001b[39;00m \u001b[38;5;28mself\u001b[39m\u001b[38;5;241m.\u001b[39m_is_stopped\n\u001b[1;32m-> 1027\u001b[0m \u001b[38;5;28;01melif\u001b[39;00m \u001b[43mlock\u001b[49m\u001b[38;5;241;43m.\u001b[39;49m\u001b[43macquire\u001b[49m\u001b[43m(\u001b[49m\u001b[43mblock\u001b[49m\u001b[43m,\u001b[49m\u001b[43m \u001b[49m\u001b[43mtimeout\u001b[49m\u001b[43m)\u001b[49m:\n\u001b[0;32m   1028\u001b[0m     lock\u001b[38;5;241m.\u001b[39mrelease()\n\u001b[0;32m   1029\u001b[0m     \u001b[38;5;28mself\u001b[39m\u001b[38;5;241m.\u001b[39m_stop()\n",
      "\u001b[1;31mKeyboardInterrupt\u001b[0m: "
     ]
    }
   ],
   "source": [
    "# Optuna Tuning\n",
    "def objective_rf(trial):\n",
    "    \n",
    "    kfold = KFold(n_splits=3, random_state=42, shuffle=True)\n",
    "    \n",
    "    n_estimators = trial.suggest_int('n_estimators', 100,500)\n",
    "    max_depth = trial.suggest_discrete_uniform('max_depth', 1, 32, 1)\n",
    "    criterion = trial.suggest_categorical('criterion', ['gini','entropy'])\n",
    "    max_features = trial.suggest_categorical('max_features', ['auto','sqrt','log2'])\n",
    "    clf = RandomForestClassifier(n_estimators = n_estimators, max_depth = max_depth, criterion = criterion, max_features = max_features)\n",
    "    \n",
    "    return cross_val_score(clf, X, Y, cv=kfold, scoring=\"f1\", n_jobs = -1, verbose = 2).mean()\n",
    "\n",
    "\n",
    "study_rf = optuna.create_study(direction='maximize')\n",
    "study_rf.optimize(objective_rf, n_trials=10, show_progress_bar = False, n_jobs = -1)"
   ]
  },
  {
   "cell_type": "code",
   "execution_count": 20,
   "id": "14bcb616",
   "metadata": {
    "ExecuteTime": {
     "end_time": "2022-08-07T18:53:00.667862Z",
     "start_time": "2022-08-07T18:47:08.723911Z"
    }
   },
   "outputs": [
    {
     "name": "stderr",
     "output_type": "stream",
     "text": [
      "\u001b[32m[I 2022-08-08 00:17:08,736]\u001b[0m A new study created in memory with name: no-name-d46427e3-8ebd-4c68-8811-4541b59a2205\u001b[0m\n",
      "C:\\Users\\91903\\anaconda3\\envs\\kali\\lib\\site-packages\\optuna\\study\\study.py:393: FutureWarning: `n_jobs` argument has been deprecated in v2.7.0. This feature will be removed in v4.0.0. See https://github.com/optuna/optuna/releases/tag/v2.7.0.\n",
      "  warnings.warn(\n",
      "[Parallel(n_jobs=3)]: Using backend LokyBackend with 3 concurrent workers.\n",
      "[Parallel(n_jobs=3)]: Using backend LokyBackend with 3 concurrent workers.\n",
      "[Parallel(n_jobs=3)]: Using backend LokyBackend with 3 concurrent workers.\n",
      "[Parallel(n_jobs=3)]: Using backend LokyBackend with 3 concurrent workers.\n",
      "[Parallel(n_jobs=3)]: Using backend LokyBackend with 3 concurrent workers.\n",
      "[Parallel(n_jobs=3)]: Using backend LokyBackend with 3 concurrent workers.\n",
      "[Parallel(n_jobs=3)]: Using backend LokyBackend with 3 concurrent workers.\n",
      "[Parallel(n_jobs=3)]: Using backend LokyBackend with 3 concurrent workers.\n",
      "[Parallel(n_jobs=3)]: Using backend LokyBackend with 3 concurrent workers.\n",
      "[Parallel(n_jobs=3)]: Using backend LokyBackend with 3 concurrent workers.\n",
      "[Parallel(n_jobs=3)]: Using backend LokyBackend with 3 concurrent workers.\n",
      "[Parallel(n_jobs=3)]: Using backend LokyBackend with 3 concurrent workers.\n",
      "[Parallel(n_jobs=3)]: Done   3 out of   3 | elapsed:   17.3s finished\n",
      "\u001b[32m[I 2022-08-08 00:17:26,483]\u001b[0m Trial 0 finished with value: 0.9195644444444445 and parameters: {'n_estimators': 203, 'learning_rate': 0.3539013301842961, 'max_depth': 12, 'subsample': 0.1801497630597883, 'colsample_bytree': 0.6841801437858721, 'num_leaves': 20}. Best is trial 0 with value: 0.9195644444444445.\u001b[0m\n",
      "[Parallel(n_jobs=3)]: Using backend LokyBackend with 3 concurrent workers.\n",
      "[Parallel(n_jobs=3)]: Done   3 out of   3 | elapsed:   45.6s finished\n",
      "\u001b[32m[I 2022-08-08 00:17:54,795]\u001b[0m Trial 1 finished with value: 0.9370766666666667 and parameters: {'n_estimators': 419, 'learning_rate': 0.2791589264371735, 'max_depth': 18, 'subsample': 0.25975541034480665, 'colsample_bytree': 0.9602169323140162, 'num_leaves': 24}. Best is trial 1 with value: 0.9370766666666667.\u001b[0m\n",
      "[Parallel(n_jobs=3)]: Using backend LokyBackend with 3 concurrent workers.\n",
      "[Parallel(n_jobs=3)]: Done   3 out of   3 | elapsed:  1.5min finished\n",
      "\u001b[32m[I 2022-08-08 00:18:38,373]\u001b[0m Trial 4 finished with value: 0.8830277777777779 and parameters: {'n_estimators': 201, 'learning_rate': 0.101787639985041, 'max_depth': 11, 'subsample': 0.08194019157342754, 'colsample_bytree': 0.5543424024045098, 'num_leaves': 16}. Best is trial 1 with value: 0.9370766666666667.\u001b[0m\n",
      "[Parallel(n_jobs=3)]: Using backend LokyBackend with 3 concurrent workers.\n",
      "[Parallel(n_jobs=3)]: Done   3 out of   3 | elapsed:  1.5min finished\n",
      "\u001b[32m[I 2022-08-08 00:18:38,959]\u001b[0m Trial 2 finished with value: 0.9377933333333334 and parameters: {'n_estimators': 323, 'learning_rate': 0.2447932067227767, 'max_depth': 24, 'subsample': 0.33311480083815376, 'colsample_bytree': 0.9854644768218115, 'num_leaves': 38}. Best is trial 2 with value: 0.9377933333333334.\u001b[0m\n",
      "[Parallel(n_jobs=3)]: Done   3 out of   3 | elapsed:  2.4min finished\n",
      "\u001b[32m[I 2022-08-08 00:19:31,881]\u001b[0m Trial 5 finished with value: 0.9465344444444446 and parameters: {'n_estimators': 487, 'learning_rate': 0.23362341993272462, 'max_depth': 11, 'subsample': 0.2774743124231458, 'colsample_bytree': 0.9657589933885637, 'num_leaves': 53}. Best is trial 5 with value: 0.9465344444444446.\u001b[0m\n",
      "[Parallel(n_jobs=3)]: Done   3 out of   3 | elapsed:  2.4min finished\n",
      "\u001b[32m[I 2022-08-08 00:19:34,200]\u001b[0m Trial 3 finished with value: 0.9400244444444444 and parameters: {'n_estimators': 309, 'learning_rate': 0.3289845071780386, 'max_depth': 8, 'subsample': 0.23512629924351441, 'colsample_bytree': 0.6408708318581777, 'num_leaves': 63}. Best is trial 5 with value: 0.9465344444444446.\u001b[0m\n",
      "[Parallel(n_jobs=3)]: Done   3 out of   3 | elapsed:  3.0min finished\n",
      "\u001b[32m[I 2022-08-08 00:20:06,340]\u001b[0m Trial 7 finished with value: 0.8953355555555556 and parameters: {'n_estimators': 229, 'learning_rate': 0.2734659866007246, 'max_depth': 19, 'subsample': 0.07574440258963722, 'colsample_bytree': 0.5942574028900913, 'num_leaves': 10}. Best is trial 5 with value: 0.9465344444444446.\u001b[0m\n",
      "[Parallel(n_jobs=3)]: Done   3 out of   3 | elapsed:  3.0min finished\n",
      "\u001b[32m[I 2022-08-08 00:20:11,533]\u001b[0m Trial 8 finished with value: 0.926598888888889 and parameters: {'n_estimators': 366, 'learning_rate': 0.43052244605336304, 'max_depth': 21, 'subsample': 0.1168530025909075, 'colsample_bytree': 0.9727243474446563, 'num_leaves': 11}. Best is trial 5 with value: 0.9465344444444446.\u001b[0m\n",
      "[Parallel(n_jobs=3)]: Done   3 out of   3 | elapsed:  3.5min finished\n",
      "\u001b[32m[I 2022-08-08 00:20:37,359]\u001b[0m Trial 6 finished with value: 0.9152966666666668 and parameters: {'n_estimators': 319, 'learning_rate': 0.3433176607229798, 'max_depth': 20, 'subsample': 0.3339107687249012, 'colsample_bytree': 0.28154375493034217, 'num_leaves': 35}. Best is trial 5 with value: 0.9465344444444446.\u001b[0m\n",
      "[Parallel(n_jobs=3)]: Done   3 out of   3 | elapsed:  4.4min finished\n",
      "\u001b[32m[I 2022-08-08 00:21:32,418]\u001b[0m Trial 9 finished with value: 0.9261488888888888 and parameters: {'n_estimators': 258, 'learning_rate': 0.44663869115220217, 'max_depth': 9, 'subsample': 0.19599251466094061, 'colsample_bytree': 0.547095552809653, 'num_leaves': 27}. Best is trial 5 with value: 0.9465344444444446.\u001b[0m\n",
      "[Parallel(n_jobs=3)]: Done   3 out of   3 | elapsed:  4.7min finished\n",
      "\u001b[32m[I 2022-08-08 00:21:49,326]\u001b[0m Trial 11 finished with value: 0.9141888888888889 and parameters: {'n_estimators': 269, 'learning_rate': 0.4466775758891937, 'max_depth': 26, 'subsample': 0.1345853211474405, 'colsample_bytree': 0.2685695274286494, 'num_leaves': 58}. Best is trial 5 with value: 0.9465344444444446.\u001b[0m\n",
      "[Parallel(n_jobs=3)]: Done   3 out of   3 | elapsed:  5.1min finished\n",
      "\u001b[32m[I 2022-08-08 00:22:30,977]\u001b[0m Trial 12 finished with value: 0.9317644444444445 and parameters: {'n_estimators': 288, 'learning_rate': 0.29649371864292384, 'max_depth': 12, 'subsample': 0.11890030598304102, 'colsample_bytree': 0.5308317442492203, 'num_leaves': 55}. Best is trial 5 with value: 0.9465344444444446.\u001b[0m\n",
      "[Parallel(n_jobs=3)]: Done   3 out of   3 | elapsed:  5.4min finished\n",
      "\u001b[32m[I 2022-08-08 00:22:33,045]\u001b[0m Trial 10 finished with value: 0.9306444444444444 and parameters: {'n_estimators': 356, 'learning_rate': 0.06650394426780622, 'max_depth': 21, 'subsample': 0.223216120548515, 'colsample_bytree': 0.9957715297974838, 'num_leaves': 62}. Best is trial 5 with value: 0.9465344444444446.\u001b[0m\n",
      "[Parallel(n_jobs=3)]: Done   3 out of   3 | elapsed:  4.9min finished\n",
      "\u001b[32m[I 2022-08-08 00:22:51,227]\u001b[0m Trial 13 finished with value: 0.9190833333333334 and parameters: {'n_estimators': 309, 'learning_rate': 0.18793201869323367, 'max_depth': 7, 'subsample': 0.33229356029464974, 'colsample_bytree': 0.33354694892394166, 'num_leaves': 66}. Best is trial 5 with value: 0.9465344444444446.\u001b[0m\n",
      "[Parallel(n_jobs=3)]: Done   3 out of   3 | elapsed:  4.4min finished\n",
      "\u001b[32m[I 2022-08-08 00:23:00,653]\u001b[0m Trial 14 finished with value: 0.8999422222222222 and parameters: {'n_estimators': 332, 'learning_rate': 0.21475762993203437, 'max_depth': 4, 'subsample': 0.05686791824886768, 'colsample_bytree': 0.4347738784060511, 'num_leaves': 17}. Best is trial 5 with value: 0.9465344444444446.\u001b[0m\n"
     ]
    }
   ],
   "source": [
    "# Optuna Tuning\n",
    "def objective_lgbm(trial):\n",
    "    \n",
    "    kfold = KFold(n_splits=3, random_state=42, shuffle=True)\n",
    "\n",
    "    n_estimators = trial.suggest_int('n_estimators', 200,500)\n",
    "    learning_rate = trial.suggest_uniform('learning_rate', 0.01, 0.5)\n",
    "    max_depth = trial.suggest_int('max_depth', 4, 32)\n",
    "    subsample = trial.suggest_uniform('subsample', 0.01, 0.4)\n",
    "    colsample_bytree = trial.suggest_uniform('colsample_bytree', 0.2, 1)\n",
    "    num_leaves = trial.suggest_int('num_leaves', 10,70)\n",
    "    \n",
    "    \n",
    "#     clf = XGBClassifier(n_estimators = n_estimators, learning_rate = learning_rate, max_depth = max_depth, , eval_metric='logloss', use_label_encoder  = False)\n",
    "    clf = LGBMClassifier(n_estimators = n_estimators, learning_rate = learning_rate, max_depth = max_depth, subsample = subsample, colsample_bytree= colsample_bytree, num_leaves = num_leaves)\n",
    "    \n",
    "    return cross_val_score(clf, X, Y, cv=kfold, scoring=\"accuracy\", n_jobs = 3, verbose = 2).mean()\n",
    "\n",
    "\n",
    "study_lgbm = optuna.create_study(direction='maximize')\n",
    "study_lgbm.optimize(objective_lgbm, n_trials=15, show_progress_bar = False, n_jobs = -1)"
   ]
  },
  {
   "cell_type": "code",
   "execution_count": 22,
   "id": "b8a2aa3a",
   "metadata": {
    "ExecuteTime": {
     "end_time": "2022-08-07T19:14:26.675975Z",
     "start_time": "2022-08-07T19:14:26.667322Z"
    }
   },
   "outputs": [
    {
     "name": "stdout",
     "output_type": "stream",
     "text": [
      "Accuracy: 0.9465344444444446\n",
      "Best hyperparameters: {'n_estimators': 487, 'learning_rate': 0.23362341993272462, 'max_depth': 11, 'subsample': 0.2774743124231458, 'colsample_bytree': 0.9657589933885637, 'num_leaves': 53}\n"
     ]
    }
   ],
   "source": [
    "trial = study_lgbm.best_trial\n",
    "print('Accuracy: {}'.format(trial.value))\n",
    "print(\"Best hyperparameters: {}\".format(trial.params))"
   ]
  },
  {
   "cell_type": "code",
   "execution_count": 41,
   "id": "dc618c34",
   "metadata": {
    "ExecuteTime": {
     "end_time": "2022-08-07T20:03:18.885339Z",
     "start_time": "2022-08-07T20:03:18.693623Z"
    }
   },
   "outputs": [],
   "source": [
    "train.drop(columns = zero_corr, axis = 1, inplace = True)\n",
    "test.drop(columns = zero_corr, axis = 1, inplace = True)"
   ]
  },
  {
   "cell_type": "code",
   "execution_count": 42,
   "id": "f49b15a6",
   "metadata": {
    "ExecuteTime": {
     "end_time": "2022-08-07T20:03:22.502837Z",
     "start_time": "2022-08-07T20:03:22.028299Z"
    }
   },
   "outputs": [],
   "source": [
    "X_train, X_test, y_train, y_test = train_test_split(X, Y, test_size = 0.3, random_state = 0)"
   ]
  },
  {
   "cell_type": "code",
   "execution_count": 43,
   "id": "f84b820f",
   "metadata": {
    "ExecuteTime": {
     "end_time": "2022-08-07T20:03:33.679288Z",
     "start_time": "2022-08-07T20:03:23.924915Z"
    }
   },
   "outputs": [
    {
     "data": {
      "text/plain": [
       "LGBMClassifier(colsample_bytree=0.9657589933885637,\n",
       "               learning_rate=0.23362341993272462, max_depth=11,\n",
       "               n_estimators=487, num_leaves=53, subsample=0.2774743124231458)"
      ]
     },
     "execution_count": 43,
     "metadata": {},
     "output_type": "execute_result"
    }
   ],
   "source": [
    "# params = study_lgbm.best_trial.params\n",
    "params = {'n_estimators': 487, 'learning_rate': 0.23362341993272462, 'max_depth': 11, 'subsample': 0.2774743124231458, 'colsample_bytree': 0.9657589933885637, 'num_leaves': 53}\n",
    "clf = LGBMClassifier(**params)\n",
    "clf.fit(X_train, y_train)"
   ]
  },
  {
   "cell_type": "code",
   "execution_count": 44,
   "id": "940adff9",
   "metadata": {
    "ExecuteTime": {
     "end_time": "2022-08-07T20:03:35.293994Z",
     "start_time": "2022-08-07T20:03:34.331023Z"
    }
   },
   "outputs": [
    {
     "name": "stdout",
     "output_type": "stream",
     "text": [
      "LightGBM Model accuracy score: 0.9466\n"
     ]
    }
   ],
   "source": [
    "from sklearn.metrics import accuracy_score\n",
    "y_test_pred =clf.predict(X_test)\n",
    "accuracy=accuracy_score(y_test_pred, y_test)\n",
    "print('LightGBM Model accuracy score: {0:0.4f}'.format(accuracy_score(y_test, y_test_pred)))"
   ]
  },
  {
   "cell_type": "code",
   "execution_count": 20,
   "id": "92d3f740",
   "metadata": {
    "ExecuteTime": {
     "end_time": "2022-08-07T19:47:56.853449Z",
     "start_time": "2022-08-07T19:47:54.306309Z"
    }
   },
   "outputs": [],
   "source": [
    "y_pred = clf.predict(test)\n",
    "test[\"target\"] = y_pred\n",
    "sub = pd.DataFrame(test[[\"target\"]])"
   ]
  },
  {
   "cell_type": "code",
   "execution_count": 27,
   "id": "425385fa",
   "metadata": {
    "ExecuteTime": {
     "end_time": "2022-08-07T19:49:10.596812Z",
     "start_time": "2022-08-07T19:49:09.045006Z"
    }
   },
   "outputs": [],
   "source": [
    "sub.to_csv(\"submission.csv\", index = True)"
   ]
  },
  {
   "cell_type": "code",
   "execution_count": null,
   "id": "4bf6f0a1",
   "metadata": {},
   "outputs": [],
   "source": []
  }
 ],
 "metadata": {
  "kernelspec": {
   "display_name": "Python 3 (ipykernel)",
   "language": "python",
   "name": "python3"
  },
  "language_info": {
   "codemirror_mode": {
    "name": "ipython",
    "version": 3
   },
   "file_extension": ".py",
   "mimetype": "text/x-python",
   "name": "python",
   "nbconvert_exporter": "python",
   "pygments_lexer": "ipython3",
   "version": "3.8.13"
  }
 },
 "nbformat": 4,
 "nbformat_minor": 5
}
